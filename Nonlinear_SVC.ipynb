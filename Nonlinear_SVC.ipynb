{
 "cells": [
  {
   "cell_type": "markdown",
   "id": "aware-consistency",
   "metadata": {},
   "source": [
    "# Nonlinear SVC\n",
    "\n",
    "### Problem Formulation\n",
    "\n",
    "The primal form for nonlinear SVC can be expressed as:\n",
    "\n",
    "$$\n",
    "\\begin{align}\n",
    "&\\min_{\\mathbf{w}, b}  && \\frac{1}{2}\\mathbf{w}^{T}\\mathbf{w} + C \\sum_{i=1}^{m}\\xi_{i}\\\\\n",
    "&\\text{subj. to}  && y_{i}(\\mathbf{w}^{T}\\phi(\\mathbf{x})_{i} + b) \\ge 1 - \\xi_{i}, \\quad \\xi_{i} \\ge 0\n",
    "\\end{align}\n",
    "$$\n",
    "\n",
    "The Lagrangian function for this problem is:\n",
    "\n",
    "$$\n",
    "\\mathcal{L}(\\mathbf{w},b,\\mathbf{\\xi},\\mathbf{\\alpha}) = \\frac{1}{2}\\mathbf{w}^{T}\\mathbf{w} + C \\sum_{i=1}^{m}\\xi_{i} + \\sum_{i}^{m}\\alpha_{i}\\Big(1 - \\xi_{i} - y_{i}(\\mathbf{w}^{T}\\phi(\\mathbf{x})_{i}) \\Big)\n",
    "$$\n",
    "\n",
    "Stationarity KKT conditions:\n",
    "\n",
    "$$\n",
    "\\begin{align}\n",
    "&\\nabla_{\\mathbf{w}}\\mathcal{L} = \\mathbf{w} - \\sum_{i=1}^{m}\\alpha_{i}y_{i}\\phi(\\mathbf{x})_{i} = 0\\\\\n",
    "&\\frac{\\partial \\mathcal{L}}{\\partial b} = -\\sum_{i=1}^{m}\\alpha_{i}y_{i} = 0\n",
    "\\end{align}\n",
    "$$\n",
    "\n",
    "Substituting the stationarity conditions back into the Lagrangian eliminates $\\mathbf{w}$ and $b$:\n",
    "\n",
    "$$\n",
    "\\mathcal{L}(\\mathbf{\\alpha},\\mathbf{\\xi}) = \\frac{1}{2}\\sum_{i=1}^{m}\\sum_{j=1}^{m}\\alpha_{i}\\alpha_{j}y_{i}y_{j}\\phi(\\mathbf{x})_{i}^{T}\\phi(\\mathbf{x})_{j} + \\sum_{i=1}^{m}\\alpha_{i} + \\sum_{i=1}^{m}\\xi_{i}(C - \\alpha_{i})\n",
    "$$\n",
    "\n",
    "With the Lagrangian, the dual of the primal problem can be expressed as:\n",
    "\n",
    "$$\n",
    "\\begin{align}\n",
    "&\\max_{\\mathbf{\\alpha}, \\mathbf{\\xi}} && -\\frac{1}{2}\\sum_{i=1}^{m}\\sum_{j=1}^{m}\\alpha_{i}\\alpha_{j}y_{i}y_{j}\\phi(\\mathbf{x})_{i}^{T}\\phi(\\mathbf{x})_{j} + \\sum_{i=1}^{m}\\alpha_{i} + \\sum_{i=1}^{m}\\xi_{i}(C - \\alpha_{i})\\\\\n",
    "&\\text{subj. to} && \\mathbf{y}^{T}\\mathbf{\\alpha}=0, \\quad \\xi_{i} \\ge 0, \\quad \\mathbf{\\alpha} \\ge 0\n",
    "\\end{align}\n",
    "$$\n",
    "\n",
    "Converting the problem to a minimization:\n",
    "\n",
    "$$\n",
    "\\begin{align}\n",
    "&\\min_{\\mathbf{\\alpha}, \\mathbf{\\xi}} && \\frac{1}{2}\\sum_{i=1}^{m}\\sum_{j=1}^{m}\\alpha_{i}\\alpha_{j}y_{i}y_{j}\\phi(\\mathbf{x})_{i}^{T}\\phi(\\mathbf{x})_{j} - \\sum_{i=1}^{m}\\alpha_{i} - \\sum_{i=1}^{m}\\xi_{i}(C - \\alpha_{i})\\\\\n",
    "&\\text{subj. to} && \\mathbf{y}^{T}\\mathbf{\\alpha}=0, \\quad \\xi_{i} \\ge 0, \\quad \\mathbf{\\alpha} \\ge 0\n",
    "\\end{align}\n",
    "$$\n",
    "\n",
    "Considering $\\mathbf{\\xi}$ as a Lagrange multiplier, this problem can be re-cast as:\n",
    "\n",
    "$$\n",
    "\\begin{align}\n",
    "&\\min_{\\mathbf{\\alpha}, \\mathbf{\\xi}} && \\frac{1}{2}\\mathbf{\\alpha}^{T}\\mathbf{G}\\mathbf{\\alpha} - \\mathbf{e}^{T}\\mathbf{\\alpha}\\\\\n",
    "&\\text{subj. to} && \\mathbf{y}^{T}\\mathbf{\\alpha}=0, \\quad 0 \\le \\alpha_{i} \\le C\n",
    "\\end{align}\n",
    "$$\n",
    "\n",
    "where $\\mathbf{G}_{ij} = y_{i}y_{j}\\phi(\\mathbf{x})_{i}^{T}\\phi(\\mathbf{x})_{j}$ is positive semidefinite.  This problem is a convex QP.  Note that the strength of the penalty, $C$, in the primal problem limits how large the dual variables, $\\alpha_{i}$, can become."
   ]
  },
  {
   "cell_type": "code",
   "execution_count": 1,
   "id": "arranged-calibration",
   "metadata": {},
   "outputs": [],
   "source": [
    "import numpy as np\n",
    "import numpy.linalg as LA\n",
    "from sklearn import datasets\n",
    "from sklearn.pipeline import Pipeline\n",
    "from sklearn.preprocessing import StandardScaler\n",
    "from sklearn.model_selection import train_test_split\n",
    "from sklearn.svm import SVC\n",
    "import pandas as pd\n",
    "import cvxpy as cp\n",
    "import matplotlib.pyplot as plt\n",
    "%matplotlib inline"
   ]
  },
  {
   "cell_type": "code",
   "execution_count": 2,
   "id": "solid-property",
   "metadata": {},
   "outputs": [],
   "source": [
    "#Generate Data\n",
    "X,y = datasets.make_moons(noise=0.2)\n",
    "\n",
    "#split data into training and testing sets\n",
    "X_train, X_test, y_train, y_test = train_test_split(X, y, test_size=0.2, random_state=0)\n",
    "\n",
    "#Scale the data\n",
    "scalerX = StandardScaler().fit(X)\n",
    "X_train_scaled = scalerX.transform(X_train)\n",
    "X_test_scaled = scalerX.transform(X_test)\n",
    "X_scaled = scalerX.transform(X)"
   ]
  },
  {
   "cell_type": "code",
   "execution_count": 11,
   "id": "lyric-conclusion",
   "metadata": {},
   "outputs": [
    {
     "name": "stdout",
     "output_type": "stream",
     "text": [
      "[[-5.00000000e+00 -5.00000000e+00 -4.81808031e+00 -5.00000000e+00\n",
      "  -5.00000000e+00 -5.00000000e+00 -5.00000000e+00 -5.00000000e+00\n",
      "  -1.55322508e+00 -1.16085652e-03 -4.81897370e-01  2.87365672e+00\n",
      "   5.00000000e+00  5.00000000e+00  5.00000000e+00  5.00000000e+00\n",
      "   4.31962392e+00  5.00000000e+00  4.66108298e+00  5.00000000e+00]]\n",
      "[[ 0.55613605 -0.76446842]\n",
      " [-0.81220948  0.55646516]\n",
      " [ 0.66647553 -0.27735583]\n",
      " [ 0.78067751  0.02568799]\n",
      " [-1.06240449  0.45297373]\n",
      " [ 0.06404338  0.50925834]\n",
      " [-0.10577341  0.40280892]\n",
      " [ 0.48215161 -0.796979  ]\n",
      " [-0.18724834  0.90041376]\n",
      " [-1.52662391 -0.25004285]\n",
      " [-1.62337425 -0.41971547]\n",
      " [-0.1940041  -0.55350687]\n",
      " [-0.44589539  0.60983028]\n",
      " [ 0.57908246 -1.07342792]\n",
      " [-0.61184396  0.56951092]\n",
      " [ 1.03378293  0.21733312]\n",
      " [ 1.14119319 -0.37723723]\n",
      " [-0.32806281  0.0205415 ]\n",
      " [-0.5083806  -0.09277446]\n",
      " [-0.61350668  0.62598204]]\n"
     ]
    }
   ],
   "source": [
    "#SVM sklearn\n",
    "C = 5\n",
    "clf = SVC(kernel='poly', degree=3, coef0=1, C=C)\n",
    "clf.fit(X_train_scaled, y_train)\n",
    "\n",
    "dual_coefs = clf.dual_coef_\n",
    "print(dual_coefs)\n",
    "\n",
    "support_vecs = clf.support_vectors_\n",
    "print(support_vecs)"
   ]
  },
  {
   "cell_type": "code",
   "execution_count": 28,
   "id": "black-aquatic",
   "metadata": {},
   "outputs": [],
   "source": [
    "def setup_kernel(params):\n",
    "    \n",
    "    if params['kernel']=='poly':\n",
    "        \n",
    "        def _nonlin_kernel(x1,x2):\n",
    "            _gamma = params['gamma']\n",
    "            _degree = params['degree']\n",
    "            _r = params['r']\n",
    "            return (_gamma * np.dot(x1,x2) + _r)**_degree\n",
    "        \n",
    "        return _nonlin_kernel\n",
    "\n",
    "def Gram_matrix(x,y,kernel):    \n",
    "    num_points,_ = x.shape\n",
    "    G = np.zeros((num_points,num_points))\n",
    "    for ii in range(0,num_points):\n",
    "        for jj in range(ii,num_points):\n",
    "            _g = y[ii]*y[jj]*kernel(x[ii],x[jj])\n",
    "            G[ii,jj] = _g\n",
    "            G[jj,ii] = _g\n",
    "    return G"
   ]
  },
  {
   "cell_type": "code",
   "execution_count": 36,
   "id": "nutritional-saying",
   "metadata": {},
   "outputs": [
    {
     "name": "stdout",
     "output_type": "stream",
     "text": [
      "[[ 0.55613605 -0.76446842]\n",
      " [-0.81220948  0.55646516]\n",
      " [ 0.66647553 -0.27735583]\n",
      " [ 0.78067751  0.02568799]\n",
      " [-0.1940041  -0.55350687]\n",
      " [-1.06240449  0.45297373]\n",
      " [ 0.06404338  0.50925834]\n",
      " [-0.44589539  0.60983028]\n",
      " [-0.10577341  0.40280892]\n",
      " [ 0.48215161 -0.796979  ]\n",
      " [ 0.57908246 -1.07342792]\n",
      " [-0.18724834  0.90041376]\n",
      " [-0.61184396  0.56951092]\n",
      " [-1.62337425 -0.41971547]\n",
      " [ 1.03378293  0.21733312]\n",
      " [ 1.14119319 -0.37723723]\n",
      " [-0.32806281  0.0205415 ]\n",
      " [-0.5083806  -0.09277446]\n",
      " [-0.61350668  0.62598204]]\n"
     ]
    },
    {
     "data": {
      "text/plain": [
       "'\\n# Print result.\\nprint(\"\\nThe optimal value is\", prob.value)\\nprint(\"A solution x is\")\\nprint(theta.value)\\nprint(\"A dual solution corresponding to the inequality constraints is\")\\nprint(prob.constraints[0].dual_value)\\n'"
      ]
     },
     "execution_count": 36,
     "metadata": {},
     "output_type": "execute_result"
    }
   ],
   "source": [
    "gamma = 1/(X_train_scaled.shape[1] * X_train_scaled.var())\n",
    "params = {'kernel':'poly','gamma':gamma,'degree':3,'r':1}\n",
    "\n",
    "kernel_func = setup_kernel(params)\n",
    "\n",
    "y_ones = np.copy(y_train)\n",
    "y_ones[y_train==0]=-1\n",
    "G = Gram_matrix(X_train_scaled,y_ones,kernel_func)\n",
    "\n",
    "n = len(X_train_scaled)\n",
    "\n",
    "e = -np.ones(n)\n",
    "lb = np.zeros(n)\n",
    "ub = C*np.ones(n)\n",
    "\n",
    "#solve with CVX\n",
    "theta = cp.Variable(n)\n",
    "prob = cp.Problem(cp.Minimize((1/2)*cp.quad_form(theta, G) + e.T @ theta),\n",
    "                 [theta >= lb,\n",
    "                  theta <= ub,\n",
    "                  y_ones.T @ theta == 0])\n",
    "prob.solve()\n",
    "alpha_scratch = theta.value\n",
    "\n",
    "#zero-out entries close to 0\n",
    "epsilon = 1e-10\n",
    "alpha_scratch[np.abs(alpha_scratch) < epsilon]=0\n",
    "\n",
    "#print(alpha_scratch)\n",
    "#print(np.count_nonzero(alpha_scratch))\n",
    "\n",
    "#get support vectors\n",
    "X_support = X_train_scaled[alpha_scratch > 0,:]\n",
    "y_support = y_ones[alpha_scratch > 0]\n",
    "\n",
    "#remove alphas for inactive constraints (should be equal to 0)\n",
    "alpha_scratch[alpha_scratch != 0]\n",
    "\n",
    "print(X_support)\n",
    "\n",
    "#TODO: compute b, compute decision function\n",
    "\n",
    "\"\"\"\n",
    "# Print result.\n",
    "print(\"\\nThe optimal value is\", prob.value)\n",
    "print(\"A solution x is\")\n",
    "print(theta.value)\n",
    "print(\"A dual solution corresponding to the inequality constraints is\")\n",
    "print(prob.constraints[0].dual_value)\n",
    "\"\"\""
   ]
  },
  {
   "cell_type": "code",
   "execution_count": 4,
   "id": "canadian-discussion",
   "metadata": {},
   "outputs": [
    {
     "data": {
      "text/plain": [
       "[<matplotlib.lines.Line2D at 0x1441c9b1d30>]"
      ]
     },
     "execution_count": 4,
     "metadata": {},
     "output_type": "execute_result"
    },
    {
     "data": {
      "image/png": "[encoded data removed]",
      "text/plain": [
       "<Figure size 432x288 with 1 Axes>"
      ]
     },
     "metadata": {
      "needs_background": "light"
     },
     "output_type": "display_data"
    }
   ],
   "source": [
    "X0 = X_train_scaled[y_train==0]\n",
    "X1 = X_train_scaled[y_train==1]\n",
    "\n",
    "plt.plot(X0[:,0],X0[:,1],'bo')\n",
    "plt.plot(X1[:,0],X1[:,1],'ro')"
   ]
  },
  {
   "cell_type": "code",
   "execution_count": 5,
   "id": "random-cookie",
   "metadata": {},
   "outputs": [
    {
     "data": {
      "text/plain": [
       "<matplotlib.collections.PathCollection at 0x1441caaf9d0>"
      ]
     },
     "execution_count": 5,
     "metadata": {},
     "output_type": "execute_result"
    },
    {
     "data": {
      "image/png": "[encoded data removed]",
      "text/plain": [
       "<Figure size 432x288 with 1 Axes>"
      ]
     },
     "metadata": {
      "needs_background": "light"
     },
     "output_type": "display_data"
    }
   ],
   "source": [
    "h = 0.02 #step size of mesh\n",
    "\n",
    "# create meshgrid for plotting\n",
    "x_min, x_max = X_scaled[:, 0].min() - 1, X_scaled[:, 0].max() + 1\n",
    "y_min, y_max = X_scaled[:, 0].min() - 1, X_scaled[:, 0].max() + 1\n",
    "xx, yy = np.meshgrid(np.arange(x_min, x_max, h),\n",
    "                     np.arange(y_min, y_max, h))\n",
    "\n",
    "#predict classes using classifier\n",
    "Z = clf.predict(np.c_[xx.ravel(), yy.ravel()])\n",
    "\n",
    "# contour plot\n",
    "Z = Z.reshape(xx.shape)\n",
    "plt.contourf(xx, yy, Z, cmap=plt.cm.coolwarm, alpha=0.8)\n",
    "\n",
    "# Plot also the training points\n",
    "plt.scatter(X_train_scaled[:, 0], X_train_scaled[:, 1], c=y_train, marker='v')\n",
    "plt.scatter(X_test_scaled[:, 0], X_test_scaled[:, 1], c=y_test, marker='o', cmap=plt.cm.coolwarm)"
   ]
  },
  {
   "cell_type": "code",
   "execution_count": 6,
   "id": "pacific-stress",
   "metadata": {},
   "outputs": [
    {
     "data": {
      "text/plain": [
       "(88804, 2)"
      ]
     },
     "execution_count": 6,
     "metadata": {},
     "output_type": "execute_result"
    }
   ],
   "source": [
    "test = np.c_[xx.ravel(),yy.ravel()]\n",
    "test.shape"
   ]
  },
  {
   "cell_type": "code",
   "execution_count": 58,
   "id": "radical-satin",
   "metadata": {},
   "outputs": [],
   "source": [
    "from qpsolvers import solve_qp"
   ]
  }
 ],
 "metadata": {
  "kernelspec": {
   "display_name": "Python 3",
   "language": "python",
   "name": "python3"
  },
  "language_info": {
   "codemirror_mode": {
    "name": "ipython",
    "version": 3
   },
   "file_extension": ".py",
   "mimetype": "text/x-python",
   "name": "python",
   "nbconvert_exporter": "python",
   "pygments_lexer": "ipython3",
   "version": "3.8.8"
  }
 },
 "nbformat": 4,
 "nbformat_minor": 5
}
