{
 "cells": [
  {
   "cell_type": "markdown",
   "id": "continued-prison",
   "metadata": {},
   "source": [
    "# Linear SVC\n",
    "\n",
    "### Primal Formulation\n",
    "\n",
    "$$\n",
    "\\begin{align}\n",
    "&\\min_{\\mathbf{w}, b} && \\frac{1}{2}\\mathbf{w}^{T}\\mathbf{w} + C \\sum_{i=1}^{m}\\xi_{i}\\\\\n",
    "&\\text{subj. to} && y_{i}(\\mathbf{w}^{T}\\mathbf{x}_{i} + b) \\ge 1 - \\xi_{i}, \\quad \\xi_{i} \\ge 0\n",
    "\\end{align}\n",
    "$$\n",
    "\n",
    "Make the substitution $\\xi_{i} = \\max\\Big(0, 1 - y_{i}(\\mathbf{w}^{T}\\mathbf{x}_{i} + b)\\Big)$.  Note that this choice of $\\xi_{i}$ satisfies the constraints of the primal problem.  The new primal problem, which is unconstrained, becomes: \n",
    "\n",
    "$$\n",
    "\\begin{align}\n",
    "&\\min_{\\mathbf{w}, b} && \\frac{1}{2}\\mathbf{w}^{T}\\mathbf{w} + C \\sum_{i=1}^{m}\\max\\Big(0, 1 - y_{i}(\\mathbf{w}^{T}\\mathbf{x}_{i} + b)\\Big)\n",
    "\\end{align}\n",
    "$$\n",
    "\n",
    "where the first term seeks to create a wide margin and second term is the hinge loss which will be positive for misclassified instances.  Setting C very large results in a hard margin classifier."
   ]
  },
  {
   "cell_type": "code",
   "execution_count": 1,
   "id": "headed-hobby",
   "metadata": {},
   "outputs": [],
   "source": [
    "import numpy as np\n",
    "import numpy.linalg as LA\n",
    "from sklearn import datasets\n",
    "from sklearn.pipeline import Pipeline\n",
    "from sklearn.preprocessing import StandardScaler\n",
    "from sklearn.model_selection import train_test_split\n",
    "from sklearn.svm import LinearSVC\n",
    "import pandas as pd\n",
    "import matplotlib.pyplot as plt\n",
    "%matplotlib inline"
   ]
  },
  {
   "cell_type": "code",
   "execution_count": 2,
   "id": "specialized-benjamin",
   "metadata": {},
   "outputs": [
    {
     "data": {
      "text/html": [
       "<div>\n",
       "<style scoped>\n",
       "    .dataframe tbody tr th:only-of-type {\n",
       "        vertical-align: middle;\n",
       "    }\n",
       "\n",
       "    .dataframe tbody tr th {\n",
       "        vertical-align: top;\n",
       "    }\n",
       "\n",
       "    .dataframe thead th {\n",
       "        text-align: right;\n",
       "    }\n",
       "</style>\n",
       "<table border=\"1\" class=\"dataframe\">\n",
       "  <thead>\n",
       "    <tr style=\"text-align: right;\">\n",
       "      <th></th>\n",
       "      <th>Sepal Length</th>\n",
       "      <th>Sepal Width</th>\n",
       "      <th>Petal Length</th>\n",
       "      <th>Petal Width</th>\n",
       "      <th>Target</th>\n",
       "    </tr>\n",
       "  </thead>\n",
       "  <tbody>\n",
       "    <tr>\n",
       "      <th>0</th>\n",
       "      <td>5.1</td>\n",
       "      <td>3.5</td>\n",
       "      <td>1.4</td>\n",
       "      <td>0.2</td>\n",
       "      <td>0</td>\n",
       "    </tr>\n",
       "    <tr>\n",
       "      <th>1</th>\n",
       "      <td>4.9</td>\n",
       "      <td>3.0</td>\n",
       "      <td>1.4</td>\n",
       "      <td>0.2</td>\n",
       "      <td>0</td>\n",
       "    </tr>\n",
       "    <tr>\n",
       "      <th>2</th>\n",
       "      <td>4.7</td>\n",
       "      <td>3.2</td>\n",
       "      <td>1.3</td>\n",
       "      <td>0.2</td>\n",
       "      <td>0</td>\n",
       "    </tr>\n",
       "    <tr>\n",
       "      <th>3</th>\n",
       "      <td>4.6</td>\n",
       "      <td>3.1</td>\n",
       "      <td>1.5</td>\n",
       "      <td>0.2</td>\n",
       "      <td>0</td>\n",
       "    </tr>\n",
       "    <tr>\n",
       "      <th>4</th>\n",
       "      <td>5.0</td>\n",
       "      <td>3.6</td>\n",
       "      <td>1.4</td>\n",
       "      <td>0.2</td>\n",
       "      <td>0</td>\n",
       "    </tr>\n",
       "  </tbody>\n",
       "</table>\n",
       "</div>"
      ],
      "text/plain": [
       "   Sepal Length  Sepal Width  Petal Length  Petal Width  Target\n",
       "0           5.1          3.5           1.4          0.2       0\n",
       "1           4.9          3.0           1.4          0.2       0\n",
       "2           4.7          3.2           1.3          0.2       0\n",
       "3           4.6          3.1           1.5          0.2       0\n",
       "4           5.0          3.6           1.4          0.2       0"
      ]
     },
     "execution_count": 2,
     "metadata": {},
     "output_type": "execute_result"
    }
   ],
   "source": [
    "#Load the data\n",
    "iris = datasets.load_iris()\n",
    "\n",
    "#convert to dataframe\n",
    "df = pd.DataFrame(iris.data, columns = ['Sepal Length', 'Sepal Width', 'Petal Length', 'Petal Width'])\n",
    "df.insert(4,'Target',iris.target)\n",
    "# target = [0,1,2] corresponds to Setosa, Versicolour, and Virginica, resp.\n",
    "df.head()"
   ]
  },
  {
   "cell_type": "code",
   "execution_count": 3,
   "id": "offshore-rehabilitation",
   "metadata": {},
   "outputs": [],
   "source": [
    "#Extract features and labels\n",
    "X =  df[['Petal Length', 'Petal Width']].values\n",
    "y = (df[['Target']].values == 2).astype(np.float64).squeeze()\n",
    "\n",
    "#split data into training and testing sets\n",
    "X_train, X_test, y_train, y_test = train_test_split(X, y, test_size=0.2, random_state=0)\n",
    "\n",
    "#Scale the data\n",
    "scalerX = StandardScaler().fit(X)\n",
    "X_train_scaled = scalerX.transform(X_train)\n",
    "X_test_scaled = scalerX.transform(X_test)"
   ]
  },
  {
   "cell_type": "markdown",
   "id": "sized-cyprus",
   "metadata": {},
   "source": [
    "## sklearn Linear SVC"
   ]
  },
  {
   "cell_type": "code",
   "execution_count": 4,
   "id": "digital-explorer",
   "metadata": {},
   "outputs": [
    {
     "name": "stdout",
     "output_type": "stream",
     "text": [
      "Linear SVC coefficients (sklearn):\n",
      "[ 1.30870506  2.24455751 -2.07046507]\n"
     ]
    }
   ],
   "source": [
    "#sklearn linear SVC\n",
    "c = 1\n",
    "lsvc = LinearSVC(C=c, loss='hinge')\n",
    "lsvc.fit(X_train_scaled,y_train)\n",
    "coefs = lsvc.coef_.flatten()\n",
    "intercept = lsvc.intercept_\n",
    "theta_lsvc_sklearn = np.concatenate((coefs, intercept), axis=0)\n",
    "print(\"Linear SVC coefficients (sklearn):\")\n",
    "print(theta_lsvc_sklearn)"
   ]
  },
  {
   "cell_type": "code",
   "execution_count": 5,
   "id": "animal-matter",
   "metadata": {},
   "outputs": [],
   "source": [
    "#hinge loss\n",
    "def hinge_loss(theta,X,y):\n",
    "    loss, grad = 0,0\n",
    "    for (x_,y_) in zip(X,y):\n",
    "        v = y_*np.dot(x_,theta)\n",
    "        loss += max(0,1-v)\n",
    "        grad += 0 if v > 1 else -y_*x_\n",
    "    return loss,grad"
   ]
  },
  {
   "cell_type": "markdown",
   "id": "rolled-dressing",
   "metadata": {},
   "source": [
    "## scratch Linear SVC"
   ]
  },
  {
   "cell_type": "code",
   "execution_count": 6,
   "id": "expressed-omaha",
   "metadata": {},
   "outputs": [
    {
     "name": "stdout",
     "output_type": "stream",
     "text": [
      "iteration:  0  - Obj. fxn:  inf  - delta:  [inf]\n",
      "iteration:  500  - Obj. fxn:  [19.26587964]  - delta:  [0.00137765]\n",
      "iteration:  1000  - Obj. fxn:  [19.16660528]  - delta:  [0.00133149]\n",
      "iteration:  1500  - Obj. fxn:  [19.15894032]  - delta:  [9.49930698e-05]\n",
      "iteration:  2000  - Obj. fxn:  [19.15719128]  - delta:  [0.00131263]\n",
      "iteration:  2500  - Obj. fxn:  [19.15792374]  - delta:  [0.0013141]\n",
      "iteration:  3000  - Obj. fxn:  [19.15556252]  - delta:  [0.00130937]\n",
      "iteration:  3500  - Obj. fxn:  [19.15738402]  - delta:  [0.0017284]\n",
      "iteration:  4000  - Obj. fxn:  [19.15667442]  - delta:  [0.0013116]\n",
      "iteration:  4500  - Obj. fxn:  [19.15585559]  - delta:  [0.00391263]\n",
      "iteration:  5000  - Obj. fxn:  [19.15600714]  - delta:  [0.00010572]\n",
      "iteration:  5500  - Obj. fxn:  [19.15617989]  - delta:  [0.0013106]\n",
      "iteration:  6000  - Obj. fxn:  [19.15770777]  - delta:  [0.00131366]\n",
      "iteration:  6500  - Obj. fxn:  [19.15662061]  - delta:  [0.00131149]\n",
      "iteration:  7000  - Obj. fxn:  [19.15801011]  - delta:  [0.00131427]\n",
      "iteration:  7500  - Obj. fxn:  [19.15957745]  - delta:  [0.00384211]\n",
      "iteration:  8000  - Obj. fxn:  [19.15598829]  - delta:  [7.10089177e-05]\n",
      "linear SVC coefficients:\n",
      "scratch coefficients:  [ 1.32078479  2.23333678 -2.06909415]\n",
      "sklearn coefficients:  [ 1.30870506  2.24455751 -2.07046507]\n"
     ]
    }
   ],
   "source": [
    "y_train_lsvc = (np.copy(y_train)).reshape(-1,1)\n",
    "y_train_lsvc[y_train == 0] = -1\n",
    "\n",
    "X_aug = np.concatenate( (X_train_scaled, np.ones((len(X_train_scaled),1))), axis=1)\n",
    "\n",
    "#solve via GD\n",
    "epsilon = 1e-7\n",
    "delta = np.inf\n",
    "alpha = 1e-3\n",
    "theta0 = np.zeros((X_aug.shape[1]))\n",
    "theta = []\n",
    "theta.append(theta0)\n",
    "J = []\n",
    "J.append(np.inf)\n",
    "k = 0\n",
    "\n",
    "while delta > epsilon:\n",
    "    #compute penalty and gradient of penalty\n",
    "    loss, grad = hinge_loss(theta[k],X_aug,y_train_lsvc)\n",
    "    \n",
    "    #obj. function\n",
    "    J.append(1/2 * theta[k].T @ theta[k] + c * loss)\n",
    "    \n",
    "    #check convergence\n",
    "    delta = np.abs(J[k] - J[k-1])\n",
    "    \n",
    "    #gradient descent\n",
    "    theta.append(theta[k] - alpha * (theta[k] + c * grad))\n",
    "        \n",
    "    if k%500 == 0:\n",
    "        print('iteration: ', k, ' - Obj. fxn: ', J[k], ' - delta: ', delta)\n",
    "    \n",
    "    k+=1\n",
    "    \n",
    "theta_scratch = theta[k]\n",
    "print(\"linear SVC coefficients:\")\n",
    "print(\"scratch coefficients: \", theta_scratch)\n",
    "print(\"sklearn coefficients: \", theta_lsvc_sklearn)"
   ]
  },
  {
   "cell_type": "code",
   "execution_count": 7,
   "id": "yellow-sheriff",
   "metadata": {},
   "outputs": [
    {
     "name": "stdout",
     "output_type": "stream",
     "text": [
      "hinge loss sklearn:  [13.63618496]\n",
      "hinge loss scratch:  [13.65142924]\n"
     ]
    }
   ],
   "source": [
    "#Compare classification error\n",
    "loss_sklearn,_ = hinge_loss(theta_lsvc_sklearn,X_aug,y_train_lsvc)\n",
    "print(\"hinge loss sklearn: \", loss_sklearn)\n",
    "\n",
    "loss_scratch,_ = hinge_loss(theta_scratch,X_aug,y_train_lsvc)\n",
    "print(\"hinge loss scratch: \", loss_scratch)"
   ]
  },
  {
   "cell_type": "code",
   "execution_count": 8,
   "id": "offshore-mason",
   "metadata": {},
   "outputs": [
    {
     "data": {
      "text/plain": [
       "<matplotlib.legend.Legend at 0x204d8917eb0>"
      ]
     },
     "execution_count": 8,
     "metadata": {},
     "output_type": "execute_result"
    },
    {
     "data": {
      "image/png": "[encoded data removed]",
      "text/plain": [
       "<Figure size 432x288 with 1 Axes>"
      ]
     },
     "metadata": {
      "needs_background": "light"
     },
     "output_type": "display_data"
    }
   ],
   "source": [
    "#Plot the data and the decision boundary\n",
    "\n",
    "#create feature data for plotting\n",
    "x_dec_bnd = np.linspace(-2,2,100).reshape(-1,1)\n",
    "#Linear SVC classification boundary from sklearn\n",
    "y_lsvc_sklearn = (theta_lsvc_sklearn[2] * np.ones((100,1)) + theta_lsvc_sklearn[0] * x_dec_bnd) / -theta_lsvc_sklearn[1]\n",
    "#Linear SVC classification boundary from scratch\n",
    "y_scratch = (theta_scratch[2] * np.ones((100,1)) + theta_scratch[0] * x_dec_bnd) / -theta_scratch[1]\n",
    "\n",
    "y_1 = np.where(y_test==1)[0] #training data, iris-virginica\n",
    "y_0 = np.where(y_test==0)[0] #training data, not iris-virginica\n",
    "plt.plot(X_test_scaled[y_0,0],X_test_scaled[y_0,1],'bo',label=\"not iris-virginica\")\n",
    "plt.plot(X_test_scaled[y_1,0],X_test_scaled[y_1,1],'k+',label=\"iris-virginica\")\n",
    "\n",
    "plt.plot(x_dec_bnd,y_lsvc_sklearn,'g',label=\"lsvc\")\n",
    "plt.plot(x_dec_bnd,y_scratch,'m',label=\"lsvc scratch\")\n",
    "plt.xlabel('petal length')\n",
    "plt.ylabel('petal width')\n",
    "plt.title('Comparison of Classifiers')\n",
    "plt.xlim((-0.5,2))\n",
    "plt.ylim((-1,2))\n",
    "plt.legend()"
   ]
  }
 ],
 "metadata": {
  "kernelspec": {
   "display_name": "Python 3",
   "language": "python",
   "name": "python3"
  },
  "language_info": {
   "codemirror_mode": {
    "name": "ipython",
    "version": 3
   },
   "file_extension": ".py",
   "mimetype": "text/x-python",
   "name": "python",
   "nbconvert_exporter": "python",
   "pygments_lexer": "ipython3",
   "version": "3.8.8"
  }
 },
 "nbformat": 4,
 "nbformat_minor": 5
}
