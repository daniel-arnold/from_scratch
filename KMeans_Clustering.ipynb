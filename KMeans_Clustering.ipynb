{
 "cells": [
  {
   "cell_type": "code",
   "execution_count": 23,
   "metadata": {
    "collapsed": true
   },
   "outputs": [],
   "source": [
    "#Imports\n",
    "import numpy as np\n",
    "import numpy.linalg as LA\n",
    "from sklearn import datasets\n",
    "from sklearn.cluster import KMeans\n",
    "import matplotlib.pyplot as plt"
   ]
  },
  {
   "cell_type": "markdown",
   "metadata": {},
   "source": [
    "## We will use the Iris dataset from sklearn"
   ]
  },
  {
   "cell_type": "code",
   "execution_count": 2,
   "metadata": {
    "collapsed": true
   },
   "outputs": [],
   "source": [
    "#Load the data\n",
    "iris = datasets.load_iris()\n",
    "y = iris.target\n",
    "x = iris.data[:,2:]"
   ]
  },
  {
   "cell_type": "markdown",
   "metadata": {},
   "source": [
    "# The KMeans algorithm:\n",
    "\n",
    "\n",
    "The Kmeans algorithm consists of 2 steps.  \n",
    "\n",
    "Step 1: Given a set of initial centroids, the algorithm computes the euclidean distances from all of the observations to each of the centroids, assigning the observation to the centroid associated with the minimum distance\n",
    "\n",
    "Step 2: Given the assignments to each cluster, new cluster centroids are computed by averaging all observations belonging to that cluster.\n",
    "\n",
    "These steps are repeated until the centroid positions converge"
   ]
  },
  {
   "cell_type": "code",
   "execution_count": 12,
   "metadata": {
    "collapsed": true
   },
   "outputs": [],
   "source": [
    "#Methods\n",
    "\n",
    "#Step 1\n",
    "def assign_observations_to_cluster(data, centers, num_centroids):\n",
    "    assigned = []\n",
    "    for i in range(0,len(data)):\n",
    "        dist = []\n",
    "        for j in range(0,num_centroids):\n",
    "            #compute euclidean distance\n",
    "            dist.append(LA.norm(data[i] - centers[j], 2))\n",
    "        assigned.append(np.argmin(dist))\n",
    "    return np.asarray(assigned)\n",
    "\n",
    "#Step 2\n",
    "def compute_centroids(assignments, data, num_centroids):\n",
    "    centers = []\n",
    "    for i in range(0,num_centroids):\n",
    "        idxs = np.where(np.asarray(assignments) == i)\n",
    "        cluster_data = data[idxs]\n",
    "        centers.append(np.mean(cluster_data, axis=0))\n",
    "    return np.asarray(centers)"
   ]
  },
  {
   "cell_type": "markdown",
   "metadata": {},
   "source": [
    "# Run KMeans"
   ]
  },
  {
   "cell_type": "code",
   "execution_count": 39,
   "metadata": {},
   "outputs": [
    {
     "name": "stdout",
     "output_type": "stream",
     "text": [
      "number of iterations: 5\n",
      "Cluster Centers:\n",
      "[[1.464      0.244     ]\n",
      " [4.26923077 1.34230769]\n",
      " [5.59583333 2.0375    ]]\n"
     ]
    }
   ],
   "source": [
    "#compute initial centroids\n",
    "num_clusters = 3\n",
    "\n",
    "centroids = []\n",
    "#centroids.append(x[np.random.choice(len(x),num_centroids),:])\n",
    "centroids.append(np.asarray([[1, 0], [2,2], [4,4]]))\n",
    "\n",
    "assignments = []\n",
    "\n",
    "epsilon = 1e-4\n",
    "delta = 100\n",
    "\n",
    "i = 0\n",
    "\n",
    "while delta > epsilon:\n",
    "    \n",
    "    assignments.append(assign_observations_to_cluster(x, centroids[i], num_clusters))\n",
    "    centroids.append(compute_centroids(assignments[i], x, num_clusters))\n",
    "    \n",
    "    delta = LA.norm(centroids[i+1] - centroids[i], 2)\n",
    "    i += 1\n",
    "\n",
    "print(\"number of iterations:\", i-1)\n",
    "print(\"Cluster Centers:\")\n",
    "print(centroids[i-1])"
   ]
  },
  {
   "cell_type": "code",
   "execution_count": 40,
   "metadata": {},
   "outputs": [
    {
     "data": {
      "image/png": "[encoded data removed]",
      "text/plain": [
       "<matplotlib.figure.Figure at 0x1bce9b6d240>"
      ]
     },
     "metadata": {},
     "output_type": "display_data"
    }
   ],
   "source": [
    "idx_0 = np.asarray(np.where(iris.target == 0)).reshape(50)\n",
    "idx_1 = np.asarray(np.where(iris.target == 1)).reshape(50)\n",
    "idx_2 = np.asarray(np.where(iris.target == 2)).reshape(50)\n",
    "\n",
    "data_0 = iris.data[idx_0,:]\n",
    "target_0 = iris.target[idx_0]\n",
    "\n",
    "data_1 = iris.data[idx_1,:]\n",
    "target_1 = iris.target[idx_1]\n",
    "\n",
    "data_2 = iris.data[idx_2,:]\n",
    "target_2 = iris.target[idx_2]\n",
    "\n",
    "f, (ax1, ax2) = plt.subplots(1, 2, sharey=True)\n",
    "ax1.plot(x[np.where(assignments[i-1] == 0),0], x[np.where(assignments[i-1] == 0),1],'ko')\n",
    "ax1.plot(x[np.where(assignments[i-1] == 1),0], x[np.where(assignments[i-1] == 1),1],'r+')\n",
    "ax1.plot(x[np.where(assignments[i-1] == 2),0], x[np.where(assignments[i-1] == 2),1],'bo')\n",
    "ax1.set_xlabel('Petal length')\n",
    "ax1.set_ylabel('Petal width')\n",
    "ax1.set_title('KMeans')\n",
    "ax2.plot(data_0[:,2],data_0[:,3],'ko',label=\"Versicolour\")\n",
    "ax2.plot(data_1[:,2],data_1[:,3],'r+',label=\"Versicolour\")\n",
    "ax2.plot(data_2[:,2],data_2[:,3],'bo',label=\"Virginica\")\n",
    "ax2.set_xlabel('Petal length')\n",
    "ax2.set_ylabel('Petal width')\n",
    "ax2.set_title('True Classification')\n",
    "plt.show()"
   ]
  },
  {
   "cell_type": "code",
   "execution_count": 21,
   "metadata": {},
   "outputs": [
    {
     "name": "stdout",
     "output_type": "stream",
     "text": [
      "Cluster Centers (KMeans):\n",
      "[[1.464      0.244     ]\n",
      " [5.59583333 2.0375    ]\n",
      " [4.26923077 1.34230769]]\n"
     ]
    }
   ],
   "source": [
    "#Compare to sklearn kmeans\n",
    "kmeans = KMeans(n_clusters=num_clusters, random_state=0).fit(x)\n",
    "print(\"Cluster Centers (KMeans):\")\n",
    "print(kmeans.cluster_centers_)"
   ]
  }
 ],
 "metadata": {
  "kernelspec": {
   "display_name": "Python 3",
   "language": "python",
   "name": "python3"
  },
  "language_info": {
   "codemirror_mode": {
    "name": "ipython",
    "version": 3
   },
   "file_extension": ".py",
   "mimetype": "text/x-python",
   "name": "python",
   "nbconvert_exporter": "python",
   "pygments_lexer": "ipython3",
   "version": "3.6.3"
  }
 },
 "nbformat": 4,
 "nbformat_minor": 2
}
