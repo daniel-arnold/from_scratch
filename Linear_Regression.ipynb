{
 "cells": [
  {
   "cell_type": "code",
   "execution_count": 1,
   "metadata": {},
   "outputs": [],
   "source": [
    "import numpy as np\n",
    "import matplotlib.pyplot as plt\n",
    "import scipy.special"
   ]
  },
  {
   "cell_type": "code",
   "execution_count": 2,
   "metadata": {},
   "outputs": [],
   "source": [
    "#setup regression\n",
    "\n",
    "coefs = np.asarray([0.4, 3.0, 2.5, 6.0, -0.8])\n",
    "#coefs = np.asarray([0.4])\n",
    "intercept = 1.44\n",
    "\n",
    "num_points = 100\n",
    "x_min = -20\n",
    "x_max = 20\n",
    "x = np.random.uniform(x_min, x_max, (len(coefs), num_points))\n",
    "\n",
    "x_aug = np.concatenate((x.T,np.ones(num_points).reshape(num_points,1) ), axis=1)\n",
    "coefs_aug = np.concatenate((coefs, np.array(intercept).reshape(1))).reshape(len(coefs)+1,1)\n",
    "\n",
    "e_mean = 0\n",
    "e_var = 0.5\n",
    "e = np.random.normal(e_mean, e_var, (num_points,1))\n",
    "\n",
    "y = x_aug @ coefs_aug + e.reshape(num_points,1)"
   ]
  },
  {
   "cell_type": "code",
   "execution_count": 3,
   "metadata": {},
   "outputs": [
    {
     "name": "stdout",
     "output_type": "stream",
     "text": [
      "norm of parameter difference (normal equations): 0.07505847417043875\n",
      "true coefficients:\n",
      " [[ 0.4 ]\n",
      " [ 3.  ]\n",
      " [ 2.5 ]\n",
      " [ 6.  ]\n",
      " [-0.8 ]\n",
      " [ 1.44]]\n",
      "coefficients from normal equation\n",
      " [[ 0.40254343]\n",
      " [ 3.00869686]\n",
      " [ 2.50316382]\n",
      " [ 6.0048633 ]\n",
      " [-0.80381125]\n",
      " [ 1.36581454]]\n"
     ]
    }
   ],
   "source": [
    "#solve via normal equation\n",
    "theta_normal = np.linalg.inv( x_aug.T @ x_aug ) @ (x_aug.T @ y)\n",
    "print(\"norm of parameter difference (normal equations):\", np.linalg.norm(coefs_aug - theta_normal,2))\n",
    "print(\"true coefficients:\\n\", coefs_aug)\n",
    "print(\"coefficients from normal equation\\n\", theta_normal)"
   ]
  },
  {
   "cell_type": "code",
   "execution_count": 5,
   "metadata": {},
   "outputs": [
    {
     "name": "stdout",
     "output_type": "stream",
     "text": [
      "iteration:  1000\n",
      "iteration:  2000\n",
      "iteration:  3000\n",
      "iteration:  4000\n",
      "total number of iterations:  4439\n",
      "estimated coefficients [[ 0.40254308]\n",
      " [ 3.0086971 ]\n",
      " [ 2.50316403]\n",
      " [ 6.00486302]\n",
      " [-0.8038116 ]\n",
      " [ 1.36586468]]\n",
      "true coefficients [[ 0.4 ]\n",
      " [ 3.  ]\n",
      " [ 2.5 ]\n",
      " [ 6.  ]\n",
      " [-0.8 ]\n",
      " [ 1.44]]\n"
     ]
    }
   ],
   "source": [
    "#solve via gradient descent\n",
    "epsilon = 1e-4\n",
    "delta = 100\n",
    "\n",
    "alpha = 0.001\n",
    "\n",
    "theta0 = np.random.uniform(-2,2,len(coefs_aug)).reshape(len(coefs_aug),1)\n",
    "theta_gd = []\n",
    "theta_gd.append(theta0)\n",
    "\n",
    "k = 0\n",
    "while(delta > epsilon):\n",
    "    #compute error\n",
    "    e = x_aug @ theta_gd[k] - y\n",
    "    \n",
    "    #compute gradients\n",
    "    gradients = 2/num_points * x_aug.T @ e\n",
    "    #print(e)\n",
    "    #compute next theta\n",
    "    theta_temp = theta_gd[k] - alpha * gradients\n",
    "    \n",
    "    #check converge\n",
    "    delta = np.linalg.norm(gradients,1)\n",
    "\n",
    "    #store\n",
    "    theta_gd.append(theta_gd[k] - alpha * gradients)\n",
    "    k += 1\n",
    "    \n",
    "    if k % 1000 == 0:\n",
    "        print(\"iteration: \", k)\n",
    "    \n",
    "print(\"total number of iterations: \", format(k))\n",
    "theta_hat_gd = theta_gd[k-1]\n",
    "print(\"estimated coefficients\", theta_hat_gd)\n",
    "print(\"true coefficients\", coefs_aug)"
   ]
  },
  {
   "cell_type": "code",
   "execution_count": 8,
   "metadata": {},
   "outputs": [
    {
     "name": "stdout",
     "output_type": "stream",
     "text": [
      "total number of iterations:  3000\n",
      "MBGD coefficients:\n",
      " [[ 0.39817672]\n",
      " [ 3.01175424]\n",
      " [ 2.50195921]\n",
      " [ 6.00535701]\n",
      " [-0.79884783]\n",
      " [ 1.3694756 ]]\n",
      "GD coefficients:\n",
      " [[ 0.40254308]\n",
      " [ 3.0086971 ]\n",
      " [ 2.50316403]\n",
      " [ 6.00486302]\n",
      " [-0.8038116 ]\n",
      " [ 1.36586468]]\n"
     ]
    }
   ],
   "source": [
    "#Solve via mini-batch gradient descent\n",
    "\n",
    "#batch size and convergence criteria\n",
    "batch_size = int(np.floor(num_points/10))\n",
    "epsilon = 1e-5\n",
    "delta0 = 100\n",
    "delta = []\n",
    "delta.append(delta0)\n",
    "max_iters = 3000\n",
    "\n",
    "#learning rate parameters\n",
    "alpha = 0.01\n",
    "\n",
    "#initial parameters and parameter lists\n",
    "theta0 = np.random.uniform(-2,2,len(coefs_aug)).reshape(len(coefs_aug),1)\n",
    "theta_mbgd = []\n",
    "theta_mbgd.append(theta0)\n",
    "\n",
    "k = 0\n",
    "while(k < max_iters):\n",
    "    \n",
    "    #grab a mini-batch\n",
    "    batch = np.random.choice(np.arange(0,num_points), batch_size)\n",
    "    x_batch = x_aug[batch,:]\n",
    "    y_batch = y[batch]\n",
    "    \n",
    "    #compute prediction error\n",
    "    e = y_batch - x_batch @ theta_mbgd[k]\n",
    "    \n",
    "    #compute gradients\n",
    "    gradients = -2/num_points * x_batch.T @ e\n",
    "    \n",
    "    #compute next theta\n",
    "    theta_mbgd.append(theta_mbgd[k] - alpha * gradients)\n",
    "    \n",
    "    #update index\n",
    "    k += 1\n",
    "    \n",
    "print(\"total number of iterations: \", format(k))\n",
    "theta_hat_mbGD = theta_mbgd[k]\n",
    "print(\"MBGD coefficients:\\n\", theta_hat_mbGD)\n",
    "print(\"GD coefficients:\\n\", theta_hat_gd)"
   ]
  }
 ],
 "metadata": {
  "kernelspec": {
   "display_name": "Python 3",
   "language": "python",
   "name": "python3"
  },
  "language_info": {
   "codemirror_mode": {
    "name": "ipython",
    "version": 3
   },
   "file_extension": ".py",
   "mimetype": "text/x-python",
   "name": "python",
   "nbconvert_exporter": "python",
   "pygments_lexer": "ipython3",
   "version": "3.8.8"
  }
 },
 "nbformat": 4,
 "nbformat_minor": 2
}
