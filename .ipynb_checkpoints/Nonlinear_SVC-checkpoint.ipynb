{
 "cells": [
  {
   "cell_type": "markdown",
   "id": "aware-consistency",
   "metadata": {},
   "source": [
    "# Nonlinear SVC\n",
    "\n",
    "### Problem Formulation\n",
    "\n",
    "The primal form for nonlinear SVC can be expressed as:\n",
    "\n",
    "$$\n",
    "\\begin{align}\n",
    "&\\min_{\\mathbf{w}, b, \\mathbf{\\xi}}  && \\frac{1}{2}\\mathbf{w}^{T}\\mathbf{w} + C \\sum_{i=1}^{m}\\xi_{i}\\\\\n",
    "&\\text{subj. to}  && y_{i}\\big(\\mathbf{w}^{T}\\phi(\\mathbf{x}_{i}) + b\\big) \\ge 1 - \\xi_{i}, \\quad \\xi_{i} \\ge 0\n",
    "\\end{align}\n",
    "$$\n",
    "\n",
    "The Lagrangian function for this problem is:\n",
    "\n",
    "$$\n",
    "\\mathcal{L}(\\mathbf{w},b,\\mathbf{\\xi},\\mathbf{\\alpha}) = \\frac{1}{2}\\mathbf{w}^{T}\\mathbf{w} + C \\sum_{i=1}^{m}\\xi_{i} + \\sum_{i}^{m}\\alpha_{i}\\Big(1 - \\xi_{i} - y_{i}\\big(\\mathbf{w}^{T}\\phi(\\mathbf{x}_{i}) + b\\big) \\Big)\n",
    "$$\n",
    "\n",
    "Stationarity KKT conditions:\n",
    "\n",
    "$$\n",
    "\\begin{align}\n",
    "&\\nabla_{\\mathbf{w}}\\mathcal{L} = \\mathbf{w} - \\sum_{i=1}^{m}\\alpha_{i}y_{i}\\phi(\\mathbf{x}_{i}) = 0\\\\\n",
    "&\\frac{\\partial \\mathcal{L}}{\\partial b} = -\\sum_{i=1}^{m}\\alpha_{i}y_{i} = 0\n",
    "\\end{align}\n",
    "$$\n",
    "\n",
    "Substituting the stationarity conditions back into the Lagrangian eliminates $\\mathbf{w}$ and $b$:\n",
    "\n",
    "$$\n",
    "\\mathcal{L}(\\mathbf{\\alpha},\\mathbf{\\xi}) = \\frac{1}{2}\\sum_{i=1}^{m}\\sum_{j=1}^{m}\\alpha_{i}\\alpha_{j}y_{i}y_{j}\\phi(\\mathbf{x}_{i})^{T}\\phi(\\mathbf{x}_{j}) + \\sum_{i=1}^{m}\\alpha_{i} + \\sum_{i=1}^{m}\\xi_{i}(C - \\alpha_{i})\n",
    "$$\n",
    "\n",
    "With the Lagrangian, the dual of the primal problem can be expressed as:\n",
    "\n",
    "$$\n",
    "\\begin{align}\n",
    "&\\max_{\\mathbf{\\alpha}, \\mathbf{\\xi}} && -\\frac{1}{2}\\sum_{i=1}^{m}\\sum_{j=1}^{m}\\alpha_{i}\\alpha_{j}y_{i}y_{j}\\phi(\\mathbf{x}_{i})^{T}\\phi(\\mathbf{x}_{j}) + \\sum_{i=1}^{m}\\alpha_{i} + \\sum_{i=1}^{m}\\xi_{i}(C - \\alpha_{i})\\\\\n",
    "&\\text{subj. to} && \\mathbf{y}^{T}\\mathbf{\\alpha}=0, \\quad \\xi_{i} \\ge 0, \\quad \\mathbf{\\alpha} \\ge 0\n",
    "\\end{align}\n",
    "$$\n",
    "\n",
    "Converting the problem to a minimization:\n",
    "\n",
    "$$\n",
    "\\begin{align}\n",
    "&\\min_{\\mathbf{\\alpha}, \\mathbf{\\xi}} && \\frac{1}{2}\\sum_{i=1}^{m}\\sum_{j=1}^{m}\\alpha_{i}\\alpha_{j}y_{i}y_{j}\\phi(\\mathbf{x}_{i})^{T}\\phi(\\mathbf{x}_{j}) - \\sum_{i=1}^{m}\\alpha_{i} - \\sum_{i=1}^{m}\\xi_{i}(C - \\alpha_{i})\\\\\n",
    "&\\text{subj. to} && \\mathbf{y}^{T}\\mathbf{\\alpha}=0, \\quad \\xi_{i} \\ge 0, \\quad \\mathbf{\\alpha} \\ge 0\n",
    "\\end{align}\n",
    "$$\n",
    "\n",
    "Considering $\\mathbf{\\xi}$ as a Lagrange multiplier, this problem can be re-cast as:\n",
    "\n",
    "$$\n",
    "\\begin{align}\n",
    "&\\min_{\\mathbf{\\alpha}, \\mathbf{\\xi}} && \\frac{1}{2}\\mathbf{\\alpha}^{T}\\mathbf{G}\\mathbf{\\alpha} - \\mathbf{e}^{T}\\mathbf{\\alpha}\\\\\n",
    "&\\text{subj. to} && \\mathbf{y}^{T}\\mathbf{\\alpha}=0, \\quad 0 \\le \\alpha_{i} \\le C\n",
    "\\end{align}\n",
    "$$\n",
    "\n",
    "where $\\mathbf{G}_{ij} = y_{i}y_{j}\\phi(\\mathbf{x}_{i})^{T}\\phi(\\mathbf{x}_{j})$ is positive semidefinite.  This problem is a convex QP.  Note that the strength of the penalty, $C$, in the primal problem limits how large the dual variables, $\\alpha_{i}$, can become.\n",
    "\n",
    "The elements of $\\mathbf{\\alpha}$ which are greater than 0 can be used to determine the decision function to classify new instances of $x$.  First it is necessary to determine the bias term, $\\hat{b}$, which can be obtained from the instances of $\\mathbf{\\alpha}$ where $0 < \\alpha_{i} < C$.  These instances are dual variables of support vectors that lie on the margins, where $\\xi_{i} = 0$.  Thus, $\\hat{b}$ can be obtained from the active constraint $y_{i}\\big(\\hat{\\mathbf{w}}^{T}\\phi(\\mathbf{x}_{i}) + \\hat{b}\\big)=1$.  Multiplying both sides by $y_{i}$ we have $\\hat{\\mathbf{w}}^{T}\\phi(\\mathbf{x}_{i}) + \\hat{b}=y_{i}$.  We can now compute $\\hat{b}$ by averaging over all the support vectors on the margin:\n",
    "\n",
    "$$\n",
    "\\begin{gather}\n",
    "\\hat{b} = \\frac{1}{n_{s}}\\sum_{i=1}^{n_s}\\Big(y_{i} - \\hat{\\mathbf{w}}^{T}\\phi(\\mathbf{x}_{i})\\Big)\\\\\n",
    "\\hat{b} = \\frac{1}{n_{s}}\\sum_{i=1}^{n_s}\\Big(y_{i} - \\sum_{j=1}^{m}\\alpha_{j}y_{j}\\phi(\\mathbf{x}_{i})^{T}\\phi(\\mathbf{x}_{j})\\Big)\n",
    "\\end{gather}\n",
    "$$\n",
    "\n",
    "New instances, $\\mathbf{x}^{\\prime}$ can be classifed using the decision function $h(\\mathbf{x}^{\\prime})$:\n",
    "\n",
    "$$\n",
    "\\begin{gather}\n",
    "h(\\mathbf{x}^{\\prime}) = \\hat{b} + \\sum_{i=1}^{m}\\alpha_{i}y_{i}\\phi(\\mathbf{x}^{\\prime})^{T}\\phi(\\mathbf{x}_{i}),\n",
    "\\end{gather}\n",
    "$$\n",
    "\n",
    "where the summation occurs over all non-zero support vectors."
   ]
  },
  {
   "cell_type": "code",
   "execution_count": 1,
   "id": "arranged-calibration",
   "metadata": {},
   "outputs": [],
   "source": [
    "import numpy as np\n",
    "import numpy.linalg as LA\n",
    "from sklearn import datasets\n",
    "from sklearn.pipeline import Pipeline\n",
    "from sklearn.preprocessing import StandardScaler\n",
    "from sklearn.model_selection import train_test_split\n",
    "from sklearn.svm import SVC\n",
    "import pandas as pd\n",
    "import cvxpy as cp\n",
    "import matplotlib.pyplot as plt\n",
    "%matplotlib inline"
   ]
  },
  {
   "cell_type": "code",
   "execution_count": 2,
   "id": "solid-property",
   "metadata": {},
   "outputs": [],
   "source": [
    "#Generate Data\n",
    "X,y = datasets.make_moons(noise=0.2)\n",
    "\n",
    "#split data into training and testing sets\n",
    "X_train, X_test, y_train, y_test = train_test_split(X, y, test_size=0.2, random_state=0)\n",
    "\n",
    "#Scale the data\n",
    "scalerX = StandardScaler().fit(X)\n",
    "X_train_scaled = scalerX.transform(X_train)\n",
    "X_test_scaled = scalerX.transform(X_test)\n",
    "X_scaled = scalerX.transform(X)"
   ]
  },
  {
   "cell_type": "code",
   "execution_count": 6,
   "id": "lyric-conclusion",
   "metadata": {},
   "outputs": [
    {
     "name": "stdout",
     "output_type": "stream",
     "text": [
      "dual coefficients:\n",
      "[-1.8343627  -1.19186676 -5.         -5.         -5.         -5.\n",
      " -3.90822822 -0.75088879 -5.         -5.         -5.          5.\n",
      "  1.6254994   2.96449742  5.          4.34676869  5.          5.\n",
      "  5.          0.54678363  5.          3.20179734]\n",
      "\n",
      "-----------------\n",
      "\n",
      "Intercept:\n",
      "[-0.08985642]\n",
      "\n",
      "-----------------\n",
      "\n"
     ]
    }
   ],
   "source": [
    "#SVM sklearn\n",
    "\n",
    "#kernel\n",
    "kernel_name = 'rbf'\n",
    "\n",
    "C = 5\n",
    "clf = SVC(kernel=kernel_name, degree=3, coef0=1, C=C)\n",
    "clf.fit(X_train_scaled, y_train)\n",
    "\n",
    "dual_coefs = clf.dual_coef_.flatten()\n",
    "print(\"dual coefficients:\")\n",
    "print(dual_coefs)\n",
    "print(\"\\n-----------------\\n\")\n",
    "\n",
    "support_vecs = clf.support_vectors_\n",
    "\n",
    "intercept = clf.intercept_\n",
    "print(\"Intercept:\")\n",
    "print(intercept)\n",
    "print(\"\\n-----------------\\n\")"
   ]
  },
  {
   "cell_type": "code",
   "execution_count": 7,
   "id": "black-aquatic",
   "metadata": {},
   "outputs": [],
   "source": [
    "#Function Definitions\n",
    "\n",
    "def setup_kernel(params):\n",
    "    #polynomial kernel\n",
    "    if params['kernel']=='poly':\n",
    "        \n",
    "        def _nonlin_kernel(x1,x2):\n",
    "            _gamma = params['gamma']\n",
    "            _degree = params['degree']\n",
    "            _r = params['r']\n",
    "            return (_gamma * np.dot(x1,x2) + _r)**_degree\n",
    "        \n",
    "        return _nonlin_kernel\n",
    "    \n",
    "    #gaussian RBF\n",
    "    elif params['kernel']=='rbf':\n",
    "        \n",
    "        def _nonlin_kernel(x1,x2):\n",
    "            _gamma = params['gamma']\n",
    "            return np.exp(-_gamma * LA.norm(x1 - x2,2)**2)\n",
    "        \n",
    "        return _nonlin_kernel\n",
    "        \n",
    "def Gram_matrix(x,y,kernel):    \n",
    "    num_points,_ = x.shape\n",
    "    G = np.zeros((num_points,num_points))\n",
    "    for ii in range(0,num_points):\n",
    "        for jj in range(ii,num_points):\n",
    "            _g = y[ii]*y[jj]*kernel(x[ii],x[jj])\n",
    "            G[ii,jj] = _g\n",
    "            G[jj,ii] = _g\n",
    "    return G\n",
    "\n",
    "\n",
    "def compute_bhat(alpha,x,y,kernel,C):\n",
    "    epsilon = 1e-10\n",
    "    #find values of alpha on the margin (less than C and greater than 0)\n",
    "    _alpha = alpha[alpha < (C - epsilon)]\n",
    "    _x = x[alpha < (C - epsilon)]\n",
    "    _y = y[alpha < (C - epsilon)]\n",
    "    \n",
    "    #sum over all support vectors on the margin\n",
    "    ns = len(_alpha)\n",
    "    bhat = 0\n",
    "    for ii in range(0,ns):\n",
    "        _bhat = 0\n",
    "        #for vectors on the margin: y_i - theta^T * X_i\n",
    "        for jj in range(0,len(alpha)):\n",
    "            #theta^T * X_i\n",
    "            _bhat += alpha[jj] * y[jj] * kernel(_x[ii],x[jj])\n",
    "        bhat += _y[ii] - _bhat\n",
    "    bhat = bhat/ns\n",
    "    return bhat\n",
    "\n",
    "def predict(x_new,x,y,alpha,bhat,kernel):\n",
    "    y_pred = bhat\n",
    "    for ii in range(len(alpha)):\n",
    "        y_pred += alpha[ii] * y[ii] * kernel(x_new,x[ii])\n",
    "    \n",
    "    if y_pred > 0:\n",
    "        return 1 \n",
    "    else:\n",
    "        return 0"
   ]
  },
  {
   "cell_type": "code",
   "execution_count": 8,
   "id": "nutritional-saying",
   "metadata": {},
   "outputs": [
    {
     "name": "stdout",
     "output_type": "stream",
     "text": [
      "scratch dual coefficients:\n",
      "[5.         1.83564897 1.61377417 1.19156502 2.96311071 5.\n",
      " 5.         5.         4.34602534 5.         5.         3.90781908\n",
      " 0.74822945 5.         5.         5.         5.         5.\n",
      " 0.55080362 5.         3.20954868 5.        ]\n",
      "\n",
      "-----------------\n",
      "\n",
      "scratch intercept:\n",
      "-0.089530709913457\n",
      "\n",
      "-----------------\n",
      "\n"
     ]
    }
   ],
   "source": [
    "#Solve from Scratch\n",
    "\n",
    "#setup kernel and Gram matrix\n",
    "gamma = 1/(X_train_scaled.shape[1] * X_train_scaled.var())\n",
    "params = {'kernel':kernel_name,'gamma':gamma,'degree':3,'r':1}\n",
    "\n",
    "kernel_func = setup_kernel(params)\n",
    "\n",
    "y_ones = np.copy(y_train)\n",
    "y_ones[y_train==0]=-1\n",
    "G = Gram_matrix(X_train_scaled,y_ones,kernel_func)\n",
    "\n",
    "#solve dual problem with CVX\n",
    "\n",
    "n = len(X_train_scaled)\n",
    "\n",
    "e = -np.ones(n)\n",
    "lb = np.zeros(n)\n",
    "ub = C*np.ones(n)\n",
    "\n",
    "theta = cp.Variable(n)\n",
    "prob = cp.Problem(cp.Minimize((1/2)*cp.quad_form(theta, G) + e.T @ theta),\n",
    "                 [theta >= lb,\n",
    "                  theta <= ub,\n",
    "                  y_ones.T @ theta == 0])\n",
    "prob.solve()\n",
    "alpha_scratch = theta.value\n",
    "\n",
    "#zero-out entries close to 0\n",
    "epsilon = 1e-10\n",
    "alpha_scratch[np.abs(alpha_scratch) < epsilon]=0\n",
    "\n",
    "#get support vectors\n",
    "X_support = X_train_scaled[alpha_scratch > 0,:]\n",
    "y_support = y_ones[alpha_scratch > 0]\n",
    "\n",
    "#remove alphas for inactive constraints (should be equal to 0)\n",
    "alpha_support = alpha_scratch[alpha_scratch > 0]\n",
    "\n",
    "print(\"scratch dual coefficients:\")\n",
    "print(alpha_support)\n",
    "print(\"\\n-----------------\\n\")\n",
    "\n",
    "#compute intercept\n",
    "bhat = compute_bhat(alpha_support,X_support,y_support,kernel_func,C)\n",
    "print(\"scratch intercept:\")\n",
    "print(bhat)\n",
    "print(\"\\n-----------------\\n\")\n",
    "\n",
    "#test = predict(np.array([2,2]),X_support,y_support,alpha_support,bhat,kernel_func)"
   ]
  },
  {
   "cell_type": "code",
   "execution_count": 12,
   "id": "random-cookie",
   "metadata": {},
   "outputs": [
    {
     "data": {
      "text/plain": [
       "Text(0.5, 1.0, 'sklearn kernel SVM')"
      ]
     },
     "execution_count": 12,
     "metadata": {},
     "output_type": "execute_result"
    },
    {
     "data": {
      "image/png": "[encoded data removed]",
      "text/plain": [
       "<Figure size 432x288 with 1 Axes>"
      ]
     },
     "metadata": {
      "needs_background": "light"
     },
     "output_type": "display_data"
    }
   ],
   "source": [
    "#sklearn - plot results\n",
    "\n",
    "# create meshgrid for plotting\n",
    "h = 0.02 #step size of mesh\n",
    "x_min, x_max = X_scaled[:, 0].min() - 1, X_scaled[:, 0].max() + 1\n",
    "y_min, y_max = X_scaled[:, 1].min() - 1, X_scaled[:, 1].max() + 1\n",
    "xx, yy = np.meshgrid(np.arange(x_min, x_max, h),\n",
    "                     np.arange(y_min, y_max, h))\n",
    "\n",
    "#predict classes using sklearn kernel SVM classifier\n",
    "Z = clf.predict(np.c_[xx.ravel(), yy.ravel()])\n",
    "\n",
    "# contour plot\n",
    "Z = Z.reshape(xx.shape)\n",
    "plt.contourf(xx, yy, Z, cmap=plt.cm.coolwarm, alpha=0.8)\n",
    "\n",
    "#testing data\n",
    "X0 = X_test_scaled[y_test==0]\n",
    "X1 = X_test_scaled[y_test==1]\n",
    "\n",
    "# Plot the test data\n",
    "plt.scatter(X0[:, 0], X0[:, 1], marker='v')\n",
    "plt.scatter(X1[:, 0], X1[:, 1], marker='o')\n",
    "plt.title('sklearn kernel SVM')"
   ]
  },
  {
   "cell_type": "code",
   "execution_count": 10,
   "id": "sacred-elder",
   "metadata": {},
   "outputs": [],
   "source": [
    "#predict classes from scratch\n",
    "Z_scratch = np.zeros(shape=xx.shape)\n",
    "x_dim,y_dim = Z_scratch.shape\n",
    "\n",
    "for ii in range(0,x_dim):\n",
    "    for jj in range(0,y_dim):\n",
    "        x_new = np.array([xx[ii,jj],yy[ii,jj]])\n",
    "        Z_scratch[ii,jj] = predict(x_new,X_support,y_support,alpha_support,bhat,kernel_func)"
   ]
  },
  {
   "cell_type": "code",
   "execution_count": 13,
   "id": "biblical-recipient",
   "metadata": {},
   "outputs": [
    {
     "data": {
      "text/plain": [
       "Text(0.5, 1.0, 'scratch kernel SVM')"
      ]
     },
     "execution_count": 13,
     "metadata": {},
     "output_type": "execute_result"
    },
    {
     "data": {
      "image/png": "[encoded data removed]",
      "text/plain": [
       "<Figure size 432x288 with 1 Axes>"
      ]
     },
     "metadata": {
      "needs_background": "light"
     },
     "output_type": "display_data"
    }
   ],
   "source": [
    "#scratch - plot results\n",
    "plt.contourf(xx, yy, Z_scratch, cmap=plt.cm.coolwarm, alpha=0.8)\n",
    "plt.scatter(X0[:, 0], X0[:, 1], marker='v')\n",
    "plt.scatter(X1[:, 0], X1[:, 1], marker='o')\n",
    "plt.title('scratch kernel SVM')"
   ]
  }
 ],
 "metadata": {
  "kernelspec": {
   "display_name": "Python 3",
   "language": "python",
   "name": "python3"
  },
  "language_info": {
   "codemirror_mode": {
    "name": "ipython",
    "version": 3
   },
   "file_extension": ".py",
   "mimetype": "text/x-python",
   "name": "python",
   "nbconvert_exporter": "python",
   "pygments_lexer": "ipython3",
   "version": "3.8.8"
  }
 },
 "nbformat": 4,
 "nbformat_minor": 5
}
