{
 "cells": [
  {
   "cell_type": "code",
   "execution_count": 1,
   "metadata": {},
   "outputs": [],
   "source": [
    "import numpy as np\n",
    "import numpy.linalg as LA\n",
    "from sklearn import datasets\n",
    "from sklearn import decomposition\n",
    "import matplotlib.pyplot as plt"
   ]
  },
  {
   "cell_type": "markdown",
   "metadata": {},
   "source": [
    "## PCA\n",
    "\n",
    "From Wikipedia:\n",
    "\n",
    "Principal Component Analysis (PCA) seeks to transform a dataset into a new set of coordinates where the dimension of greatest variance of the data lies along the first component, the dimension of second greatest variance lies along the second component, and so on.\n",
    "\n",
    "If the data matrix $X$ is of dimension (n,p), the transformation is defined by a set of $p$-dimensional vectors (which can be considered weights) $\\mathbf{w}_{(k)}$ that map each row $\\mathbf{x}_{(i)}$ of $X$ into a new vector of principle component scores $\\mathbf{t}_{(i)}$ where\n",
    "\n",
    "$\\mathbf{t}_{k(i)} = \\mathbf{x}_{i}\\cdot \\mathbf{w}_{l}$ where $i = 1,\\cdots,n$ and $k = 1,...,l$ with $l < p$ to reduce dimensionality.  When constraining the weight vector to have unit length, the first principal component can be found via maximizing the variance of $\\mathbf{t}_{(1)}$:\n",
    "\n",
    "$\\mathbf  {w}_{{(1)}}={\\underset  {\\Vert {\\mathbf  {w}}\\Vert =1}{\\operatorname {\\arg \\,max}}}\\,\\left\\{\\sum _{i}\\left(t_{1}\\right)_{{(i)}}^{2}\\right\\}={\\underset  {\\Vert {\\mathbf  {w}}\\Vert =1}{\\operatorname {\\arg \\,max}}}\\,\\left\\{\\sum _{i}\\left({\\mathbf  {x}}_{{(i)}}\\cdot {\\mathbf  {w}}\\right)^{2}\\right\\}$\n",
    "\n",
    "Using the definition of a 2-norm, this can be rewritten as:\n",
    "\n",
    "$ \\mathbf {w} _{(1)}={\\underset {\\Vert \\mathbf {w} \\Vert =1}{\\operatorname {\\arg \\,max} }}\\,\\{\\Vert \\mathbf {Xw} \\Vert ^{2}\\}={\\underset {\\Vert \\mathbf {w} \\Vert =1}{\\operatorname {\\arg \\,max} }}\\,\\left\\{\\mathbf {w} ^{T}\\mathbf {X}^{T} \\mathbf {Xw} \\right\\}$\n",
    "\n",
    "Given that $\\mathbf{w}$ is a unit vector, this is equivalent to minimizing:\n",
    "\n",
    "$ \\mathbf {w} _{(1)}={\\underset {\\Vert \\mathbf {w} \\Vert =1}{\\operatorname {\\arg \\,max} }}\\,\\left\\{{\\frac {\\mathbf {w} ^{T}\\mathbf {X}^{T} \\mathbf {Xw} }{\\mathbf {w} ^{T}\\mathbf {w} }}\\right\\}$\n",
    "\n",
    "Which is the Rayleigh quotient.  As $X^{T}X$ is positive semi definite, the quotient is maximized by the largest eigenvalue of $X^{T}X$, which occurs when $\\mathbf{w}$ is the corresponding eigenvector\n",
    "\n",
    "The $k^{th}$ principal component can be found by subtracting the previous $(k-1)$ components from $X$:\n",
    "\n",
    "$\\hat{X} = X - \\sum_{s=1}^{k-1}X\\mathbf{w}_{(s)}\\mathbf{w}_{(s)}^{T}$\n",
    "\n",
    "and finding the largest eigenvalue of the resulting matrix"
   ]
  },
  {
   "cell_type": "markdown",
   "metadata": {},
   "source": [
    "## Power Iteration Method\n",
    "\n",
    "Evaluation of the covariance: $X^{T}X$ requires $2np^2$ operations, which can be inefficient for large datasets.  To compensate for this, we will utilize the power iteration method to compute eigenvalues/eigenvectors.  This method relies on computing the dot product: $X\\mathbf{w}$ which requires $2np$ operations"
   ]
  },
  {
   "cell_type": "code",
   "execution_count": 2,
   "metadata": {},
   "outputs": [],
   "source": [
    "def power_iteration(X):\n",
    "    \n",
    "    n,p = np.shape(X)\n",
    "    r = np.random.rand(p,1)\n",
    "    r = r/LA.norm(r,2)\n",
    "    \n",
    "    delta = 100\n",
    "    epsilon = 1e-5\n",
    "    \n",
    "    num_iter = 0\n",
    "    while(delta > epsilon):\n",
    "        s = np.dot(np.transpose(X), np.dot(X,r))\n",
    "        \n",
    "        e_val = np.dot(np.transpose(r),s)\n",
    "        delta = LA.norm(e_val*r - s, 1)\n",
    "        r = s/LA.norm(s,2)\n",
    "        num_iter += 1\n",
    "        \n",
    "    return np.sqrt(e_val), r"
   ]
  },
  {
   "cell_type": "code",
   "execution_count": 3,
   "metadata": {},
   "outputs": [],
   "source": [
    "#Load the data\n",
    "iris = datasets.load_iris()\n",
    "y = iris.target\n",
    "X = iris.data\n",
    "n,p = np.shape(X)"
   ]
  },
  {
   "cell_type": "code",
   "execution_count": 4,
   "metadata": {},
   "outputs": [],
   "source": [
    "#PCA\n",
    "\n",
    "pcs = []\n",
    "eigenvecs = []\n",
    "\n",
    "#subtract mean from dataset X\n",
    "u = np.mean(X,axis=0).reshape(p,1)\n",
    "B = X - np.dot(np.ones((n,1)), np.transpose(u))\n",
    "\n",
    "#compute singular values and eigenvectors \n",
    "for i in range(0,p):\n",
    "    #power iteration for largest principal component\n",
    "    sig_val, ev = power_iteration(B)\n",
    "    pcs.append(sig_val)\n",
    "    eigenvecs.append(ev)\n",
    "    \n",
    "    #subtract principal component\n",
    "    B = B - np.dot(B, np.dot(ev, np.transpose(ev)))"
   ]
  },
  {
   "cell_type": "code",
   "execution_count": 9,
   "metadata": {},
   "outputs": [
    {
     "data": {
      "image/png": "[encoded data removed]",
      "text/plain": [
       "<Figure size 432x288 with 1 Axes>"
      ]
     },
     "metadata": {
      "needs_background": "light"
     },
     "output_type": "display_data"
    }
   ],
   "source": [
    "#Project data into lower dimensions\n",
    "Wp = np.array(eigenvecs).reshape(p,p).transpose()\n",
    "\n",
    "Wl = Wp[:,:2]\n",
    "\n",
    "B = X - np.dot(np.ones((n,1)), np.transpose(u))\n",
    "X_trans = B.dot(Wl)\n",
    "plt.plot(X_trans[:,0],X_trans[:,1],'bo')\n",
    "plt.xlabel('component 1')\n",
    "plt.ylabel('component 2')\n",
    "plt.title('Data projected onto first two PCs (scratch)')\n",
    "plt.show()"
   ]
  },
  {
   "cell_type": "code",
   "execution_count": 10,
   "metadata": {},
   "outputs": [
    {
     "name": "stdout",
     "output_type": "stream",
     "text": [
      "norm of difference of PCA and scratch transforms: 2.044785802964999e-07\n"
     ]
    },
    {
     "data": {
      "image/png": "[encoded data removed]",
      "text/plain": [
       "<Figure size 432x288 with 1 Axes>"
      ]
     },
     "metadata": {
      "needs_background": "light"
     },
     "output_type": "display_data"
    }
   ],
   "source": [
    "#Compare to sklearn\n",
    "pca = decomposition.PCA(n_components=2)\n",
    "pca.fit(X)\n",
    "X_trans_pca = pca.transform(X)\n",
    "\n",
    "#compare transformed data from both methods\n",
    "delta = LA.norm(X_trans_pca - X_trans,2)\n",
    "print(\"norm of difference of PCA and scratch transforms:\", delta)\n",
    "\n",
    "plt.plot(X_trans_pca[:,0],X_trans_pca[:,1],'bo')\n",
    "plt.xlabel('component 1')\n",
    "plt.ylabel('component 2')\n",
    "plt.title('Data projected onto first two PCs (sklearn)')\n",
    "plt.show()"
   ]
  }
 ],
 "metadata": {
  "kernelspec": {
   "display_name": "Python 3",
   "language": "python",
   "name": "python3"
  },
  "language_info": {
   "codemirror_mode": {
    "name": "ipython",
    "version": 3
   },
   "file_extension": ".py",
   "mimetype": "text/x-python",
   "name": "python",
   "nbconvert_exporter": "python",
   "pygments_lexer": "ipython3",
   "version": "3.7.4"
  }
 },
 "nbformat": 4,
 "nbformat_minor": 2
}
