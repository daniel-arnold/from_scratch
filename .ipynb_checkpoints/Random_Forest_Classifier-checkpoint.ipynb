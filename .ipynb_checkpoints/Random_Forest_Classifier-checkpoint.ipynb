{
 "cells": [
  {
   "cell_type": "code",
   "execution_count": 1,
   "id": "second-taste",
   "metadata": {},
   "outputs": [],
   "source": [
    "#Imports\n",
    "import numpy as np\n",
    "from sklearn import datasets\n",
    "from sklearn.preprocessing import StandardScaler\n",
    "from sklearn.model_selection import train_test_split\n",
    "from sklearn.model_selection import GridSearchCV\n",
    "from sklearn.model_selection import ShuffleSplit\n",
    "from sklearn.metrics import accuracy_score\n",
    "from sklearn import tree\n",
    "from scipy import stats\n",
    "import matplotlib.pyplot as plt\n",
    "%matplotlib inline"
   ]
  },
  {
   "cell_type": "code",
   "execution_count": 2,
   "id": "fifth-porter",
   "metadata": {},
   "outputs": [],
   "source": [
    "#Generate Data\n",
    "X,y = datasets.make_moons(n_samples=10000, noise=0.4)\n",
    "\n",
    "#split data into training and testing sets\n",
    "X_train, X_test, y_train, y_test = train_test_split(X, y, test_size=0.2, random_state=0)"
   ]
  },
  {
   "cell_type": "code",
   "execution_count": 3,
   "id": "express-northwest",
   "metadata": {},
   "outputs": [
    {
     "name": "stdout",
     "output_type": "stream",
     "text": [
      "best params:\n",
      "{'max_depth': 2, 'max_leaf_nodes': 4}\n",
      "best score:\n",
      "0.8514999999999999\n"
     ]
    }
   ],
   "source": [
    "#grid search for single decision tree\n",
    "\n",
    "param_grid = [\n",
    "    {'max_leaf_nodes': [2,4,6], 'max_depth': [2,4,6]}\n",
    "]\n",
    "\n",
    "folds = 10\n",
    "\n",
    "dec_tree_clf = tree.DecisionTreeClassifier()\n",
    "\n",
    "grid_search = GridSearchCV(dec_tree_clf, param_grid, cv=folds)\n",
    "\n",
    "grid_search.fit(X_train,y_train)\n",
    "\n",
    "print(\"best params:\")\n",
    "print(grid_search.best_params_)\n",
    "print(\"best score:\")\n",
    "print(grid_search.best_score_)"
   ]
  },
  {
   "cell_type": "code",
   "execution_count": 15,
   "id": "accompanied-chance",
   "metadata": {},
   "outputs": [
    {
     "data": {
      "text/plain": [
       "Text(0.5, 1.0, 'Decision Tree')"
      ]
     },
     "execution_count": 15,
     "metadata": {},
     "output_type": "execute_result"
    },
    {
     "data": {
      "image/png": "[encoded data removed]",
      "text/plain": [
       "<Figure size 432x288 with 1 Axes>"
      ]
     },
     "metadata": {
      "needs_background": "light"
     },
     "output_type": "display_data"
    }
   ],
   "source": [
    "# Plot Classifier Results\n",
    "\n",
    "#testing data\n",
    "X0 = X_test[y_test==0]\n",
    "X1 = X_test[y_test==1]\n",
    "\n",
    "# create meshgrid for plotting\n",
    "h = 0.02 #step size of mesh\n",
    "x_min, x_max = X[:, 0].min() - 1, X[:, 0].max() + 1\n",
    "y_min, y_max = X[:, 1].min() - 1, X[:, 1].max() + 1\n",
    "xx, yy = np.meshgrid(np.arange(x_min, x_max, h),\n",
    "                     np.arange(y_min, y_max, h))\n",
    "\n",
    "#predict classes using sklearn kernel SVM classifier\n",
    "Z = grid_search.predict(np.c_[xx.ravel(), yy.ravel()])\n",
    "\n",
    "# contour plot\n",
    "Z = Z.reshape(xx.shape)\n",
    "plt.contourf(xx, yy, Z, cmap=plt.cm.coolwarm, alpha=0.8)\n",
    "\n",
    "plt.scatter(X0[:, 0], X0[:, 1], marker='v', alpha=0.2)\n",
    "plt.scatter(X1[:, 0], X1[:, 1], marker='o', alpha=0.2)\n",
    "plt.title('Decision Tree')"
   ]
  },
  {
   "cell_type": "code",
   "execution_count": 19,
   "id": "recent-occurrence",
   "metadata": {},
   "outputs": [
    {
     "name": "stdout",
     "output_type": "stream",
     "text": [
      "maximum score:  0.8505\n",
      "minimum score:  0.6965\n",
      "mean score:  0.7872680000000001\n",
      "random forest accuracy:  0.86\n"
     ]
    }
   ],
   "source": [
    "#Random Forest\n",
    "\n",
    "rs = ShuffleSplit(n_splits=1000, train_size=100, test_size=100, random_state=None)\n",
    "\n",
    "#list of scores of individual decision trees\n",
    "scores = []\n",
    "#list of predictions of individual trees\n",
    "y_pred = []\n",
    "#list of decision trees\n",
    "dtrees = []\n",
    "\n",
    "#train the trees using split data\n",
    "for train_index, test_index in rs.split(X_train):\n",
    "    \n",
    "    #create decision tree classifier & fit to split training set\n",
    "    _dtree = tree.DecisionTreeClassifier()\n",
    "    _dtree.fit(X_train[train_index],y_train[train_index])\n",
    "    dtrees.append(_dtree)\n",
    "    \n",
    "    #compute the score of this tree for the test set\n",
    "    scores.append(_dtree.score(X_test,y_test))\n",
    "    \n",
    "    #predict the class for the test set\n",
    "    y_pred.append(_dtree.predict(X_test))\n",
    "    \n",
    "print(\"maximum score: \", max(scores))\n",
    "print(\"minimum score: \", min(scores))\n",
    "print(\"mean score: \", np.mean(scores))\n",
    "\n",
    "#majority voting of predictions\n",
    "result,count = stats.mode(np.asarray(y_pred).T,axis=1)\n",
    "rf_accuracy = accuracy_score(y_test,result.flatten())\n",
    "print(\"random forest accuracy: \", rf_accuracy)"
   ]
  },
  {
   "cell_type": "code",
   "execution_count": 30,
   "id": "effective-division",
   "metadata": {},
   "outputs": [],
   "source": [
    "def predict_scratch(x,dtrees):\n",
    "    y_pred = []\n",
    "    for _dtree in dtrees:\n",
    "        y_pred.append(_dtree.predict(x))\n",
    "        \n",
    "    result,count = stats.mode(np.asarray(y_pred).T,axis=1)\n",
    "    return result.flatten()"
   ]
  },
  {
   "cell_type": "code",
   "execution_count": 31,
   "id": "gentle-champion",
   "metadata": {},
   "outputs": [
    {
     "data": {
      "text/plain": [
       "<matplotlib.contour.QuadContourSet at 0x16f2de5dc10>"
      ]
     },
     "execution_count": 31,
     "metadata": {},
     "output_type": "execute_result"
    },
    {
     "data": {
      "image/png": "[encoded data removed]",
      "text/plain": [
       "<Figure size 432x288 with 1 Axes>"
      ]
     },
     "metadata": {
      "needs_background": "light"
     },
     "output_type": "display_data"
    }
   ],
   "source": [
    "#predict classes using sklearn kernel SVM classifier\n",
    "Z = predict_scratch(np.c_[xx.ravel(), yy.ravel()],dtrees)\n",
    "\n",
    "# contour plot\n",
    "Z = Z.reshape(xx.shape)\n",
    "plt.contourf(xx, yy, Z, cmap=plt.cm.coolwarm, alpha=0.8)"
   ]
  }
 ],
 "metadata": {
  "kernelspec": {
   "display_name": "Python 3",
   "language": "python",
   "name": "python3"
  },
  "language_info": {
   "codemirror_mode": {
    "name": "ipython",
    "version": 3
   },
   "file_extension": ".py",
   "mimetype": "text/x-python",
   "name": "python",
   "nbconvert_exporter": "python",
   "pygments_lexer": "ipython3",
   "version": "3.8.8"
  }
 },
 "nbformat": 4,
 "nbformat_minor": 5
}
