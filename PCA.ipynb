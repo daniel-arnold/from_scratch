{
 "cells": [
  {
   "cell_type": "code",
   "execution_count": 2,
   "metadata": {},
   "outputs": [],
   "source": [
    "import numpy as np\n",
    "import numpy.linalg as LA\n",
    "from sklearn import datasets"
   ]
  },
  {
   "cell_type": "markdown",
   "metadata": {},
   "source": [
    "## PCA\n",
    "\n",
    "From Wikipedia:\n",
    "\n",
    "Principal Component Analysis (PCA) seeks to transform a dataset into a new set of coordinates where the dimension of greatest variance of the data lies along the first component, the dimension of second greatest variance lies along the second component, and so on.\n",
    "\n",
    "If the data matrix $X$ is of dimension (n,p), the transformation is defined by a set of $p$-dimensional vectors (which can be considered weights) $\\mathbf{w}_{(k)}$ that map each row $\\mathbf{x}_{(i)}$ of $X$ into a new vector of principle component scores $\\mathbf{t}_{(i)}$ where\n",
    "\n",
    "$\\mathbf{t}_{k(i)} = \\mathbf{x}_{i}\\cdot \\mathbf{w}_{l}$ where $i = 1,\\cdots,n$ and $k = 1,...,l$ with $l < p$ to reduce dimensionality.  When constraining the weight vector to have unit length, the first principal component can be found via maximizing the variance of $\\mathbf{t}_{(1)}$:\n",
    "\n",
    "$\\mathbf  {w}_{{(1)}}={\\underset  {\\Vert {\\mathbf  {w}}\\Vert =1}{\\operatorname {\\arg \\,max}}}\\,\\left\\{\\sum _{i}\\left(t_{1}\\right)_{{(i)}}^{2}\\right\\}={\\underset  {\\Vert {\\mathbf  {w}}\\Vert =1}{\\operatorname {\\arg \\,max}}}\\,\\left\\{\\sum _{i}\\left({\\mathbf  {x}}_{{(i)}}\\cdot {\\mathbf  {w}}\\right)^{2}\\right\\}$\n",
    "\n",
    "Using the definition of a 2-norm, this can be rewritten as:\n",
    "\n",
    "$ \\mathbf {w} _{(1)}={\\underset {\\Vert \\mathbf {w} \\Vert =1}{\\operatorname {\\arg \\,max} }}\\,\\{\\Vert \\mathbf {Xw} \\Vert ^{2}\\}={\\underset {\\Vert \\mathbf {w} \\Vert =1}{\\operatorname {\\arg \\,max} }}\\,\\left\\{\\mathbf {w} ^{T}\\mathbf {X}^{T} \\mathbf {Xw} \\right\\}$\n",
    "\n",
    "Given that $\\mathbf{w}$ is a unit vector, this is equivalent to minimizing:\n",
    "\n",
    "$ \\mathbf {w} _{(1)}={\\underset {\\Vert \\mathbf {w} \\Vert =1}{\\operatorname {\\arg \\,max} }}\\,\\left\\{{\\frac {\\mathbf {w} ^{T}\\mathbf {X}^{T} \\mathbf {Xw} }{\\mathbf {w} ^{T}\\mathbf {w} }}\\right\\}$\n",
    "\n",
    "Which is the Rayleigh quotient.  As $X^{T}X$ is positive semi definite, the quotient is maximized by the largest eigenvalue of $X^{T}X$, which occurs when $\\mathbf{w}$ is the corresponding eigenvector\n",
    "\n",
    "The $k^{th}$ principal component can be found by subtracting the previous $(k-1)$ components from $X$:\n",
    "\n",
    "$\\hat{X} = X - \\sum_{s=1}^{k-1}X\\mathbf{w}_{(s)}\\mathbf{w}_{(s)}^{T}$\n",
    "\n",
    "and finding the largest eigenvalue of the resulting matrix"
   ]
  },
  {
   "cell_type": "markdown",
   "metadata": {},
   "source": [
    "## Power Iteration Method\n",
    "\n",
    "Evaluation of the covariance: $X^{T}X$ requires $2np^2$ operations, which can be inefficient for large datasets.  To compensate for this, we will utilize the power iteration method to compute eigenvalues/eigenvectors.  This method relies on computing the dot product: $X^T(X\\mathbf{r})$ which requires $2np$ operations"
   ]
  },
  {
   "cell_type": "code",
   "execution_count": null,
   "metadata": {},
   "outputs": [],
   "source": [
    "def compute_eigens(X):\n",
    "    epsilon = 1e-4\n",
    "    delta = 100\n",
    "    n,p = np.shape(X)\n",
    "    #initialize with random vector\n",
    "    rk = np.random.rand(p)"
   ]
  },
  {
   "cell_type": "code",
   "execution_count": 3,
   "metadata": {},
   "outputs": [],
   "source": [
    "#Load the data\n",
    "iris = datasets.load_iris()\n",
    "y = iris.target\n",
    "x = iris.data"
   ]
  }
 ],
 "metadata": {
  "kernelspec": {
   "display_name": "Python 3",
   "language": "python",
   "name": "python3"
  },
  "language_info": {
   "codemirror_mode": {
    "name": "ipython",
    "version": 3
   },
   "file_extension": ".py",
   "mimetype": "text/x-python",
   "name": "python",
   "nbconvert_exporter": "python",
   "pygments_lexer": "ipython3",
   "version": "3.7.4"
  }
 },
 "nbformat": 4,
 "nbformat_minor": 2
}
