{
 "cells": [
  {
   "cell_type": "code",
   "execution_count": 2,
   "metadata": {},
   "outputs": [],
   "source": [
    "import numpy as np\n",
    "import numpy.linalg as LA\n",
    "from sklearn import datasets\n",
    "from sklearn.linear_model import LogisticRegression\n",
    "import matplotlib.pyplot as plt"
   ]
  },
  {
   "cell_type": "markdown",
   "metadata": {},
   "source": [
    "# Logistic Regression\n",
    "\n",
    "## Maximim Log-likelihood\n",
    "\n",
    "Here we will use logistic regression to conduct a binary classification.  The logistic regression process will be formulated using Maximum Likelihood estimation.  To begin, consider a random variable $y \\in\\{0,1\\}$.  Let the $p$ be the probability that $y=1$. Given a set of $N$ trials, the liklihood of the sequence $y_{1}, y_{2}, \\dots, y_{N}$ is given by:\n",
    "\n",
    "$\\mathcal{L} = \\Pi_{i}^{N}p^{y_{i}}(1-p)^{1 - y_{i}}$\n",
    "\n",
    "Given a set of labeled training data, the goal of maximum liklihood estimation is to determine a probability distribution that best recreates the empirical distribution of the training set. \n",
    "\n",
    "The log-likelihood is the logarithmic transformation of the likelihood function.  As logarithms are strictly increasing functions, the resulting solution from maximizing the likelihood vs. the log-likelihood are the equivalent.  Given a dataset of cardinality $N$, the log-likelihood (normalized by $N$) is given by:\n",
    "\n",
    "$l = \\frac{1}{N}\\sum_{i=1}^{N}\\Big(y_{i}\\log(p) + (1 - y_{i})\\log(1 - p)\\Big)$\n",
    "\n",
    "## Logistic function\n",
    "\n",
    "Logistic regression performs binary classification based on a probabilistic interpretation of the data.  Essentially, the process seeks to assign a probability to new observations.  If the probability associated with the new instance of data is greater than 0.5, then the new observation is assigned to 1 (for example).  If the probability associated with the new instance of the data is less than 0.5, then it is assigned to 0.  To map the real numerical values into probabilities (which must lie between 0 and 1), logistic regression makes use of the logistic (sigmoid) function, given by:\n",
    "\n",
    "$\\sigma(t) = \\frac{1}{1 + e^{-t}}$\n",
    "\n",
    "Note that by setting $t=0$, $\\sigma(0) = 0.5$, which is the decision boundary.  We should also note that the derivative of the logistic function with respect to the parameter $t$ is:\n",
    "\n",
    "$\\frac{d}{dt}\\sigma(t) = \\sigma(t)(1 - \\sigma(t))$\n",
    "\n",
    "## Logistic Regression and Derivation of the Gradient\n",
    "\n",
    "Let's assume the training data consists of $N$ observations, where observation $i$ is denoted by the pair $(y_{i},\\mathbf{x}_{i})$, where $y \\in \\{0,1\\}$ is the label for the feature vector $\\mathbf{x}$.  We wish to compute a linear decision boundary that best seperates the labeled observations.  Let $\\mathbf{\\theta}$ denote the vector of coefficients to be estimated.  In this problem, the log likelihood can be expressed as:\n",
    "\n",
    "$l =  \\frac{1}{N}\\sum_{i=1}^{N}\\Big(y_{i}\\log\\big(\\sigma(\\mathbf{\\theta}^{T}\\mathbf{x}_{i})\\big) + (1 - y_{i}) \\log\\big( 1 - \\sigma(\\mathbf{\\theta}^{T}\\mathbf{x}_{i})\\big)\\Big)$\n",
    "\n",
    "The gradient of the objective with respect to the $j^{th}$ element of $\\mathbf{\\theta}$ is:\n",
    "$$\n",
    "\\begin{aligned}\n",
    "\\frac{d}{d\\theta^{(j)}} l &=  \\frac{1}{N}\\sum_{i=1}^{N}\\Bigg( \\frac{d}{d\\theta^{(j)}} y_{i}\\log\\big(\\sigma(\\mathbf{\\theta}^{T}\\mathbf{x}_{i})\\big) + \\frac{d}{d\\theta^{(j)}}(1 - y_{i}) \\log\\big( 1 - \\sigma(\\mathbf{\\theta}^{T}\\mathbf{x}_{i})\\big)\\Bigg) \\\\\n",
    "&= \\frac{1}{N}\\sum_{i=1}^{N}\\Bigg(\\frac{y_{i}}{\\sigma(\\mathbf{\\theta}^{T}\\mathbf{x}_{i})} - \\frac{1 - y_{i}}{1 - \\sigma(\\mathbf{\\theta}^{T}\\mathbf{x}_{i})} \\Bigg)\\frac{d}{d\\theta^{(j)}}\\sigma(\\mathbf{\\theta}^{T}\\mathbf{x}_{i})\\\\\n",
    "&= \\frac{1}{N}\\sum_{i=1}^{N}\\Bigg(\\frac{y_{i}}{\\sigma(\\mathbf{\\theta}^{T}\\mathbf{x}_{i})} - \\frac{1 - y_{i}}{1 - \\sigma(\\mathbf{\\theta}^{T}\\mathbf{x}_{i})} \\Bigg)\\sigma(\\mathbf{\\theta}^{T}\\mathbf{x}_{i})\\Big(1 - \\sigma(\\mathbf{\\theta}^{T}\\mathbf{x}_{i})\\Big)x_{i}^{(j)}\\\\\n",
    "&=  \\frac{1}{N}\\sum_{i=1}^{N}\\Bigg(\\frac{y_{i} - \\sigma(\\mathbf{\\theta}^{T}\\mathbf{x}_{i})}{\\sigma(\\mathbf{\\theta}^{T}\\mathbf{x}_{i})\\Big(1 - \\sigma(\\mathbf{\\theta}^{T}\\mathbf{x}_{i})\\Big)}\\Bigg)\\sigma(\\mathbf{\\theta}^{T}\\mathbf{x}_{i})\\Big(1 - \\sigma(\\mathbf{\\theta}^{T}\\mathbf{x}_{i})\\Big)x_{i}^{(j)}\\\\\n",
    "&= \\frac{1}{N}\\sum_{i=1}^{N}\\Bigg(y_{i} - \\sigma(\\mathbf{\\theta}^{T}\\mathbf{x}_{i})\\Bigg)x_{i}^{(j)}\n",
    "\\end{aligned}\n",
    "$$\n",
    "\n",
    "where the last equation has the familiar form of the product of the prediciton error and the $j^{th}$ feature.  With the gradient of the log likelihood function, the parameter vector $\\mathbf{\\theta}$ can now be calculated via gradient ascent (as we're <em>maximizing</em> the log likelihood):\n",
    "\n",
    "$$\n",
    "\\begin{equation}\n",
    "    \\mathbf{\\theta}^{(j)}(k+1) = \\mathbf{\\theta}^{(j)}(k) + \\alpha \\frac{1}{N}\\sum_{i=1}^{N}\\Bigg( y_{i} - \\sigma(\\mathbf{\\theta}^{T}(k)\\mathbf{x}_{i}))\\Bigg)x_{i}^{(j)}\n",
    "\\end{equation}\n",
    "$$"
   ]
  },
  {
   "cell_type": "code",
   "execution_count": 3,
   "metadata": {},
   "outputs": [],
   "source": [
    "# Supporting Methods\n",
    "\n",
    "#logistic function\n",
    "def sigmoid(a):\n",
    "    return 1/(1 + np.exp(-a))\n",
    "\n",
    "#ll function\n",
    "def log_likelihood(x, y, theta):\n",
    "    logits = np.dot(x, theta)\n",
    "    log_like = np.sum(y * logits - np.log(1 + np.exp(logits)))\n",
    "    return log_like"
   ]
  },
  {
   "cell_type": "code",
   "execution_count": 4,
   "metadata": {},
   "outputs": [],
   "source": [
    "#Load the data\n",
    "iris = datasets.load_iris()\n",
    "x = iris.data[:,2:]                    #features will be petal width and petal length\n",
    "y = (iris.target==2).astype(int).reshape(len(x),1)    #1 of iris-virginica, and 0 ow\n",
    "\n",
    "#Prepare Data for Regression\n",
    "#pad x with a vector of ones for computation of intercept\n",
    "x_aug = np.concatenate( (x,np.ones((len(x),1))) , axis=1)"
   ]
  },
  {
   "cell_type": "code",
   "execution_count": 5,
   "metadata": {},
   "outputs": [
    {
     "name": "stdout",
     "output_type": "stream",
     "text": [
      "sklearn coefficients:\n",
      "[[  5.75452053]\n",
      " [ 10.44681116]\n",
      " [-45.27248307]]\n",
      "sklearn log likelihood:  -10.281754052558687\n"
     ]
    }
   ],
   "source": [
    "#sklearn logistic regression\n",
    "log_reg = LogisticRegression(penalty='none')\n",
    "log_reg.fit(x,y.ravel())\n",
    "log_reg.get_params()\n",
    "coefs = log_reg.coef_.reshape(-1,1)\n",
    "intercept = log_reg.intercept_\n",
    "theta_sklearn = np.concatenate((coefs, intercept.reshape(-1,1)), axis=0)\n",
    "print(\"sklearn coefficients:\")\n",
    "print(theta_sklearn)\n",
    "print(\"sklearn log likelihood: \", log_likelihood(x_aug, y, theta_sklearn))"
   ]
  },
  {
   "cell_type": "code",
   "execution_count": 6,
   "metadata": {},
   "outputs": [
    {
     "name": "stdout",
     "output_type": "stream",
     "text": [
      "iteration:  4000  log_likelihood: -11.529302688612685\n",
      "iteration:  8000  log_likelihood: -10.800986140073512\n",
      "iteration:  12000  log_likelihood: -10.543197464480874\n",
      "iteration:  16000  log_likelihood: -10.425775111214602\n",
      "iteration:  20000  log_likelihood: -10.36535749825992\n",
      "iteration:  24000  log_likelihood: -10.331961877189842\n",
      "iteration:  28000  log_likelihood: -10.312622172168293\n",
      "iteration:  32000  log_likelihood: -10.301055609225223\n",
      "iteration:  36000  log_likelihood: -10.293975480174714\n",
      "iteration:  40000  log_likelihood: -10.289566343598294\n",
      "scratch coefficients:\n",
      "[[  5.5044475 ]\n",
      " [ 10.17562424]\n",
      " [-43.60242548]]\n"
     ]
    }
   ],
   "source": [
    "#Perform Logistic Regression\n",
    "num_iterations = 40000\n",
    "alpha = 1e-2\n",
    "\n",
    "theta0 = np.ones((3,1))\n",
    "theta = []\n",
    "theta.append(theta0)\n",
    "\n",
    "k=0\n",
    "while k < num_iterations:\n",
    "    \n",
    "    #compute prediction error\n",
    "    e = y - sigmoid(np.dot(x_aug, theta[k]))\n",
    "\n",
    "    #compute the gradient of the log-likelihood\n",
    "    grad_ll = np.dot(x_aug.T, e)\n",
    "\n",
    "    #gradient ascent\n",
    "    theta.append(theta[k] + alpha * grad_ll)\n",
    "\n",
    "    #update iteration step\n",
    "    k += 1\n",
    "\n",
    "    if k % 4000 == 0:\n",
    "        #print(\"iteration: \", k, \" delta: \", delta)\n",
    "        print(\"iteration: \", k, \" log_likelihood:\", log_likelihood(x_aug, y, theta[k]))\n",
    "    \n",
    "theta_final = theta[k]\n",
    "print(\"scratch coefficients:\")\n",
    "print(theta_final)"
   ]
  },
  {
   "cell_type": "code",
   "execution_count": 7,
   "metadata": {},
   "outputs": [
    {
     "data": {
      "image/png": "[encoded data removed]",
      "text/plain": [
       "<Figure size 432x288 with 1 Axes>"
      ]
     },
     "metadata": {
      "needs_background": "light"
     },
     "output_type": "display_data"
    }
   ],
   "source": [
    "#Plot the data and the decision boundary\n",
    "\n",
    "#create feature data for plotting\n",
    "x_dec_bnd = np.linspace(0,7,100).reshape(-1,1)\n",
    "#classification boundary from sklearn\n",
    "y_sklearn = (theta_sklearn[2] * np.ones((100,1)) + theta_sklearn[0] * x_dec_bnd) / -theta_sklearn[1]\n",
    "#classification boundary from scratch\n",
    "y_scratch = (theta_final[2] * np.ones((100,1)) + theta_final[0] * x_dec_bnd) / -theta_final[1]\n",
    "\n",
    "y_1 = np.where(y==1)[0] #training data, iris-virginica\n",
    "y_0 = np.where(y==0)[0] #training data, not iris-virginica\n",
    "plt.plot(x[y_0,0],x[y_0,1],'bo',label=\"not iris-virginica\")\n",
    "plt.plot(x[y_1,0],x[y_1,1],'k+',label=\"iris-virginica\")\n",
    "plt.plot(x_dec_bnd,y_sklearn,'r',label=\"sklearn dec. boundary\")\n",
    "plt.plot(x_dec_bnd,y_scratch,'g',label=\"scratch dec. boundary\")\n",
    "plt.xlabel('petal length')\n",
    "plt.ylabel('petal width')\n",
    "plt.title('Logistic Regression Classification')\n",
    "plt.xlim((3,7))\n",
    "plt.ylim((0,3.5))\n",
    "plt.legend()\n",
    "plt.show()"
   ]
  }
 ],
 "metadata": {
  "kernelspec": {
   "display_name": "Python 3",
   "language": "python",
   "name": "python3"
  },
  "language_info": {
   "codemirror_mode": {
    "name": "ipython",
    "version": 3
   },
   "file_extension": ".py",
   "mimetype": "text/x-python",
   "name": "python",
   "nbconvert_exporter": "python",
   "pygments_lexer": "ipython3",
   "version": "3.7.11"
  }
 },
 "nbformat": 4,
 "nbformat_minor": 2
}
