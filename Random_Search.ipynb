{
 "metadata": {
  "language_info": {
   "codemirror_mode": {
    "name": "ipython",
    "version": 3
   },
   "file_extension": ".py",
   "mimetype": "text/x-python",
   "name": "python",
   "nbconvert_exporter": "python",
   "pygments_lexer": "ipython3",
   "version": "3.6.10"
  },
  "orig_nbformat": 2,
  "kernelspec": {
   "name": "python3610jvsc74a57bd0a3729eca01f33b6116a226cba4392155fbf439f55734fbaac56c98addfcaff46",
   "display_name": "Python 3.6.10 64-bit ('base': conda)"
  }
 },
 "nbformat": 4,
 "nbformat_minor": 2,
 "cells": [
  {
   "cell_type": "code",
   "execution_count": 91,
   "metadata": {},
   "outputs": [],
   "source": [
    "# imports\n",
    "import numpy as np\n",
    "import matplotlib.pyplot as plt\n",
    "import numpy.linalg as LA\n",
    "%matplotlib inline"
   ]
  },
  {
   "cell_type": "code",
   "execution_count": 16,
   "metadata": {},
   "outputs": [],
   "source": [
    "#setup regression\n",
    "\n",
    "coefs = np.asarray([0.4, 3.0, 2.5, 6.0, -0.8])\n",
    "#coefs = np.asarray([0.4])\n",
    "intercept = 1.44\n",
    "\n",
    "num_points = 100\n",
    "x_min = -20\n",
    "x_max = 20\n",
    "x = np.random.uniform(x_min, x_max, (len(coefs), num_points))\n",
    "\n",
    "X = np.concatenate((x.T,np.ones(num_points).reshape(num_points,1) ), axis=1)\n",
    "coefs_aug = np.concatenate((coefs, np.array(intercept).reshape(1))).reshape(len(coefs)+1,1)\n",
    "\n",
    "e_mean = 0\n",
    "e_var = 0.5\n",
    "e = np.random.normal(e_mean, e_var, (num_points,1))\n",
    "\n",
    "y = X @ coefs_aug + e.reshape(num_points,1)"
   ]
  },
  {
   "cell_type": "code",
   "execution_count": 78,
   "metadata": {},
   "outputs": [],
   "source": [
    "#random search direction, unit length\n",
    "def random_direction(n):\n",
    "    x = np.random.normal(scale=1,size=n)\n",
    "    return x/LA.norm(x,2)\n",
    "\n",
    "#compute best search direction\n",
    "def random_search(wk,n,P,alpha,X,y):\n",
    "    J = []\n",
    "    w = []\n",
    "    for i in range(0,P):\n",
    "        #generate random direction\n",
    "        _d = random_direction(n)\n",
    "        #GD step\n",
    "        w.append(wk - alpha * _d)\n",
    "        #predict y\n",
    "        y_pred = X @ w[i]\n",
    "        #compute MSE\n",
    "        _mse = np.mean( (y.flatten() - y_pred)**2 )\n",
    "        J.append(_mse)\n",
    "        \n",
    "    idx = J.index(min(J))\n",
    "    return w[idx], J[idx]\n"
   ]
  },
  {
   "cell_type": "code",
   "execution_count": 94,
   "metadata": {
    "tags": []
   },
   "outputs": [
    {
     "output_type": "stream",
     "name": "stdout",
     "text": [
      "iteration:  0  ----------- MSE:  6984.100503239312\n",
      "iteration:  100  ----------- MSE:  5429.803361869305\n",
      "iteration:  200  ----------- MSE:  4053.029643654081\n",
      "iteration:  300  ----------- MSE:  2893.2619932917414\n",
      "iteration:  400  ----------- MSE:  1942.3458958562117\n",
      "iteration:  500  ----------- MSE:  1186.7805656501644\n",
      "iteration:  600  ----------- MSE:  611.8004095813216\n",
      "iteration:  700  ----------- MSE:  227.92696108900452\n",
      "iteration:  800  ----------- MSE:  33.785511652554305\n",
      "iteration:  900  ----------- MSE:  0.8808907216793891\n",
      "iteration:  1000  ----------- MSE:  0.24686354466443844\n",
      "iteration:  1100  ----------- MSE:  0.2365034652280942\n",
      "iteration:  1200  ----------- MSE:  0.23756063863544355\n",
      "iteration:  1300  ----------- MSE:  0.2361820552605411\n",
      "iteration:  1400  ----------- MSE:  0.2359988090295632\n",
      "iteration:  1500  ----------- MSE:  0.23934496773576786\n",
      "iteration:  1600  ----------- MSE:  0.23710704363236013\n",
      "iteration:  1700  ----------- MSE:  0.23776551240562696\n",
      "iteration:  1800  ----------- MSE:  0.23645084829884158\n",
      "iteration:  1900  ----------- MSE:  0.2375337896761926\n"
     ]
    }
   ],
   "source": [
    "#random search\n",
    "\n",
    "P = 100 #number of search directions to consider\n",
    "n = len(coefs_aug) #number of weights to fit\n",
    "alpha = 0.01  #GD step size\n",
    "\n",
    "max_iters = 2000\n",
    "k=0\n",
    "\n",
    "J = [] #array to hold best MSE at each iteration\n",
    "\n",
    "#initial weights \n",
    "w0 = np.zeros(n)\n",
    "\n",
    "w = []\n",
    "w.append(w0)\n",
    "\n",
    "while k < max_iters:\n",
    "    #random search given present value of weights\n",
    "    _w,_J = random_search(w[k],n,P,alpha,X,y)\n",
    "    J.append(_J)\n",
    "    w.append(_w)\n",
    "\n",
    "    if k%100 == 0:\n",
    "        print('iteration: ',k,' ----------- MSE: ', J[k])\n",
    "    \n",
    "    #update iteration step\n",
    "    k+=1"
   ]
  },
  {
   "cell_type": "code",
   "execution_count": 98,
   "metadata": {},
   "outputs": [
    {
     "output_type": "stream",
     "name": "stdout",
     "text": [
      "True weights:  [ 0.4   3.    2.5   6.   -0.8   1.44]\nRandom search weights:  [ 0.4020567   3.0116837   2.50556416  5.99966882 -0.79852395  1.4266944 ]\n"
     ]
    }
   ],
   "source": [
    "print(\"True weights: \", coefs_aug.flatten())\n",
    "print(\"Random search weights: \", w[-1])"
   ]
  },
  {
   "cell_type": "code",
   "execution_count": null,
   "metadata": {},
   "outputs": [],
   "source": []
  }
 ]
}